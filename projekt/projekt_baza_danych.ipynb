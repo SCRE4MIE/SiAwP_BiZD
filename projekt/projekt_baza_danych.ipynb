{
 "cells": [
  {
   "cell_type": "markdown",
   "source": [
    "# Projekt zaliczeniowy\n",
    "## Twórcy:\n",
    "### Magdalena Kobierecka, 141879\n",
    "### Tomasz Rudziński, 155625\n",
    "### Mateusz Baran, 155620\n"
   ],
   "metadata": {
    "collapsed": false
   },
   "id": "560b76d82c97fde1"
  },
  {
   "cell_type": "markdown",
   "source": [
    "# Ładowanie danych z API pogodowego"
   ],
   "metadata": {
    "collapsed": false
   },
   "id": "8440a2124b0cc6d4"
  },
  {
   "cell_type": "code",
   "execution_count": null,
   "outputs": [],
   "source": [
    "#!pip install numpy, pandas, matplotlib, scipy, notebook, requests, tqdm, seaborn\n",
    "# open_meteo API:\n",
    "#!pip install openmeteo-requests\n",
    "#!pip install requests-cache retry-requests\n",
    "# posgresql\n",
    "#!pip install sqlalchemy psycopg2"
   ],
   "metadata": {
    "collapsed": false
   },
   "id": "ee44d4cc2fabe7af"
  },
  {
   "cell_type": "markdown",
   "source": [
    "# Pobieranie danych z OpenMeteo.com\n",
    "Dane są pobierane przy pomocy paczki udostępnionej przez OpenMeteo Są one dodatkowo zaposywane w cashu aby nie było trzeba ich za każdym razem pobierać."
   ],
   "metadata": {
    "collapsed": false
   },
   "id": "e847e1fcdbe9c30"
  },
  {
   "cell_type": "code",
   "execution_count": null,
   "outputs": [],
   "source": [
    "# dane określające położenie geograficzne:\n",
    "latitude, longitude = 54.21390216317151, 21.74313646439217\n",
    "start_date, end_date = \"2014-01-22\", \"2024-01-22\""
   ],
   "metadata": {
    "collapsed": false
   },
   "id": "5054d6c79b2f83a7"
  },
  {
   "cell_type": "code",
   "execution_count": null,
   "outputs": [],
   "source": [
    "import openmeteo_requests\n",
    "from tqdm import tqdm\n",
    "import requests_cache\n",
    "import pandas as pd\n",
    "from retry_requests import retry\n",
    "\n",
    "# Setup the Open-Meteo API client with cache and retry on error\n",
    "cache_session = requests_cache.CachedSession('.cache', expire_after=-1)\n",
    "retry_session = retry(cache_session, retries=5, backoff_factor=0.2)\n",
    "openmeteo = openmeteo_requests.Client(session=retry_session)\n",
    "\n",
    "# Make sure all required weather variables are listed here\n",
    "# The order of variables in hourly or daily is important to assign them correctly below\n",
    "url = \"https://archive-api.open-meteo.com/v1/archive\"\n",
    "params = {\n",
    "    \"latitude\": latitude,\n",
    "    \"longitude\": longitude,\n",
    "    \"start_date\": start_date,\n",
    "    \"end_date\": end_date,\n",
    "    \"hourly\": [\"temperature_2m\", \"relative_humidity_2m\", \"dew_point_2m\", \"apparent_temperature\", \"precipitation\",\n",
    "               \"rain\", \"snowfall\", \"snow_depth\", \"weather_code\", \"pressure_msl\", \"surface_pressure\", \"cloud_cover\",\n",
    "               \"cloud_cover_low\", \"cloud_cover_mid\", \"cloud_cover_high\", \"et0_fao_evapotranspiration\",\n",
    "               \"vapour_pressure_deficit\", \"wind_speed_10m\", \"wind_speed_100m\", \"wind_direction_10m\",\n",
    "               \"wind_direction_100m\", \"wind_gusts_10m\", \"soil_temperature_0_to_7cm\", \"soil_temperature_7_to_28cm\",\n",
    "               \"soil_temperature_28_to_100cm\", \"soil_temperature_100_to_255cm\", \"soil_moisture_0_to_7cm\",\n",
    "               \"soil_moisture_7_to_28cm\", \"soil_moisture_28_to_100cm\", \"soil_moisture_100_to_255cm\"],\n",
    "    \"timezone\": \"auto\"\n",
    "}\n",
    "responses = openmeteo.weather_api(url, params=params)\n",
    "\n",
    "# Process first location. Add a for-loop for multiple locations or weather models\n",
    "response = responses[0]\n",
    "print(f\"Coordinates {response.Latitude()}°E {response.Longitude()}°N\")\n",
    "print(f\"Elevation {response.Elevation()} m asl\")\n",
    "print(f\"Timezone {response.Timezone()} {response.TimezoneAbbreviation()}\")\n",
    "print(f\"Timezone difference to GMT+0 {response.UtcOffsetSeconds()} s\")\n",
    "\n",
    "# Process hourly data. The order of variables needs to be the same as requested.\n",
    "hourly = response.Hourly()\n",
    "hourly_temperature_2m = hourly.Variables(0).ValuesAsNumpy()\n",
    "hourly_relative_humidity_2m = hourly.Variables(1).ValuesAsNumpy()\n",
    "hourly_dew_point_2m = hourly.Variables(2).ValuesAsNumpy()\n",
    "hourly_apparent_temperature = hourly.Variables(3).ValuesAsNumpy()\n",
    "hourly_precipitation = hourly.Variables(4).ValuesAsNumpy()\n",
    "hourly_rain = hourly.Variables(5).ValuesAsNumpy()\n",
    "hourly_snowfall = hourly.Variables(6).ValuesAsNumpy()\n",
    "hourly_snow_depth = hourly.Variables(7).ValuesAsNumpy()\n",
    "hourly_weather_code = hourly.Variables(8).ValuesAsNumpy()\n",
    "hourly_pressure_msl = hourly.Variables(9).ValuesAsNumpy()\n",
    "hourly_surface_pressure = hourly.Variables(10).ValuesAsNumpy()\n",
    "hourly_cloud_cover = hourly.Variables(11).ValuesAsNumpy()\n",
    "hourly_cloud_cover_low = hourly.Variables(12).ValuesAsNumpy()\n",
    "hourly_cloud_cover_mid = hourly.Variables(13).ValuesAsNumpy()\n",
    "hourly_cloud_cover_high = hourly.Variables(14).ValuesAsNumpy()\n",
    "hourly_et0_fao_evapotranspiration = hourly.Variables(15).ValuesAsNumpy()\n",
    "hourly_vapour_pressure_deficit = hourly.Variables(16).ValuesAsNumpy()\n",
    "hourly_wind_speed_10m = hourly.Variables(17).ValuesAsNumpy()\n",
    "hourly_wind_speed_100m = hourly.Variables(18).ValuesAsNumpy()\n",
    "hourly_wind_direction_10m = hourly.Variables(19).ValuesAsNumpy()\n",
    "hourly_wind_direction_100m = hourly.Variables(20).ValuesAsNumpy()\n",
    "hourly_wind_gusts_10m = hourly.Variables(21).ValuesAsNumpy()\n",
    "hourly_soil_temperature_0_to_7cm = hourly.Variables(22).ValuesAsNumpy()\n",
    "hourly_soil_temperature_7_to_28cm = hourly.Variables(23).ValuesAsNumpy()\n",
    "hourly_soil_temperature_28_to_100cm = hourly.Variables(24).ValuesAsNumpy()\n",
    "hourly_soil_temperature_100_to_255cm = hourly.Variables(25).ValuesAsNumpy()\n",
    "hourly_soil_moisture_0_to_7cm = hourly.Variables(26).ValuesAsNumpy()\n",
    "hourly_soil_moisture_7_to_28cm = hourly.Variables(27).ValuesAsNumpy()\n",
    "hourly_soil_moisture_28_to_100cm = hourly.Variables(28).ValuesAsNumpy()\n",
    "hourly_soil_moisture_100_to_255cm = hourly.Variables(29).ValuesAsNumpy()\n",
    "\n",
    "hourly_data = {\"date\": pd.date_range(\n",
    "    start=pd.to_datetime(hourly.Time(), unit=\"s\"),\n",
    "    end=pd.to_datetime(hourly.TimeEnd(), unit=\"s\"),\n",
    "    freq=pd.Timedelta(seconds=hourly.Interval()),\n",
    "    inclusive=\"left\"\n",
    ")}\n",
    "hourly_data[\"temperature_2m\"] = hourly_temperature_2m\n",
    "hourly_data[\"relative_humidity_2m\"] = hourly_relative_humidity_2m\n",
    "hourly_data[\"dew_point_2m\"] = hourly_dew_point_2m\n",
    "hourly_data[\"apparent_temperature\"] = hourly_apparent_temperature\n",
    "hourly_data[\"precipitation\"] = hourly_precipitation\n",
    "hourly_data[\"rain\"] = hourly_rain\n",
    "hourly_data[\"snowfall\"] = hourly_snowfall\n",
    "hourly_data[\"snow_depth\"] = hourly_snow_depth\n",
    "hourly_data[\"weather_code\"] = hourly_weather_code\n",
    "hourly_data[\"pressure_msl\"] = hourly_pressure_msl\n",
    "hourly_data[\"surface_pressure\"] = hourly_surface_pressure\n",
    "hourly_data[\"cloud_cover\"] = hourly_cloud_cover\n",
    "hourly_data[\"cloud_cover_low\"] = hourly_cloud_cover_low\n",
    "hourly_data[\"cloud_cover_mid\"] = hourly_cloud_cover_mid\n",
    "hourly_data[\"cloud_cover_high\"] = hourly_cloud_cover_high\n",
    "hourly_data[\"et0_fao_evapotranspiration\"] = hourly_et0_fao_evapotranspiration\n",
    "hourly_data[\"vapour_pressure_deficit\"] = hourly_vapour_pressure_deficit\n",
    "hourly_data[\"wind_speed_10m\"] = hourly_wind_speed_10m\n",
    "hourly_data[\"wind_speed_100m\"] = hourly_wind_speed_100m\n",
    "hourly_data[\"wind_direction_10m\"] = hourly_wind_direction_10m\n",
    "hourly_data[\"wind_direction_100m\"] = hourly_wind_direction_100m\n",
    "hourly_data[\"wind_gusts_10m\"] = hourly_wind_gusts_10m\n",
    "hourly_data[\"soil_temperature_0_to_7cm\"] = hourly_soil_temperature_0_to_7cm\n",
    "hourly_data[\"soil_temperature_7_to_28cm\"] = hourly_soil_temperature_7_to_28cm\n",
    "hourly_data[\"soil_temperature_28_to_100cm\"] = hourly_soil_temperature_28_to_100cm\n",
    "hourly_data[\"soil_temperature_100_to_255cm\"] = hourly_soil_temperature_100_to_255cm\n",
    "hourly_data[\"soil_moisture_0_to_7cm\"] = hourly_soil_moisture_0_to_7cm\n",
    "hourly_data[\"soil_moisture_7_to_28cm\"] = hourly_soil_moisture_7_to_28cm\n",
    "hourly_data[\"soil_moisture_28_to_100cm\"] = hourly_soil_moisture_28_to_100cm\n",
    "hourly_data[\"soil_moisture_100_to_255cm\"] = hourly_soil_moisture_100_to_255cm\n",
    "\n",
    "hourly_dataframe = pd.DataFrame(data=hourly_data)\n",
    "print(hourly_dataframe.dtypes)\n",
    "hourly_dataframe.head()"
   ],
   "metadata": {
    "collapsed": false
   },
   "id": "f4b1d58d566e87ad"
  },
  {
   "cell_type": "markdown",
   "source": [
    "## Sprawdzanie pustych wartości.\n",
    "### Jeżeli pusta wartość insteniej, to zamieniana jest na średnią z sąsiadów.\n",
    "Nie jest mozliwe ustawianie wartości poustych na 0. Przykładem jest tu śnieg, nie można ustawić go na 0 jeżeli sąsiedne wiersze go posiadają."
   ],
   "metadata": {
    "collapsed": false
   },
   "id": "79e113759b103353"
  },
  {
   "cell_type": "code",
   "execution_count": null,
   "outputs": [],
   "source": [
    "rows_with_null = hourly_dataframe[hourly_dataframe.isnull().any(axis=1)]\n",
    "rows_with_null"
   ],
   "metadata": {
    "collapsed": false
   },
   "id": "5a3288a3b2f68deb"
  },
  {
   "cell_type": "code",
   "execution_count": null,
   "outputs": [],
   "source": [
    "columns = hourly_dataframe.columns[1:] # bez date\n",
    "for column in tqdm(columns):\n",
    "    hourly_dataframe[column] = hourly_dataframe[column].fillna(hourly_dataframe[column].mean()) "
   ],
   "metadata": {
    "collapsed": false
   },
   "id": "195beecdfd602f2f"
  },
  {
   "cell_type": "code",
   "execution_count": null,
   "outputs": [],
   "source": [
    "rows_with_null = hourly_dataframe[hourly_dataframe.isnull().any(axis=1)]\n",
    "rows_with_null"
   ],
   "metadata": {
    "collapsed": false
   },
   "id": "b0094263c66e1192"
  },
  {
   "cell_type": "markdown",
   "source": [
    "Jak widać wyżej, wszystkie wartości null zostały zamienione na średnią."
   ],
   "metadata": {
    "collapsed": false
   },
   "id": "3c1e6c916dd1b54f"
  },
  {
   "cell_type": "markdown",
   "source": [
    "# Baza danych"
   ],
   "metadata": {
    "collapsed": false
   },
   "id": "8fbfa2bea3ec035c"
  },
  {
   "cell_type": "code",
   "execution_count": null,
   "outputs": [],
   "source": [
    "from project_settings import DATABASE\n",
    "from sqlalchemy import create_engine, Column, Integer, String, MetaData, Table\n",
    "\n",
    "engine = create_engine(f'postgresql://{DATABASE[\"user\"]}:{DATABASE[\"password\"]}@{DATABASE[\"host\"]}:{DATABASE[\"port\"]}/{DATABASE[\"database\"]}')"
   ],
   "metadata": {
    "collapsed": false
   },
   "id": "230743677d6d27bc"
  },
  {
   "cell_type": "markdown",
   "source": [
    "### Stworzenie tabeli w bazie danych\n"
   ],
   "metadata": {
    "collapsed": false
   },
   "id": "57e036c8738763ef"
  },
  {
   "cell_type": "code",
   "execution_count": null,
   "outputs": [],
   "source": [
    "table_name = 'weather_data'\n",
    "archive_table_name = 'weather_data_archive'\n",
    "\n",
    "try:\n",
    "    hourly_dataframe.head(0).to_sql(table_name, engine, if_exists='fail', index=False)\n",
    "except ValueError as e:\n",
    "    print(e)\n",
    "    pass\n",
    "try:\n",
    "    hourly_dataframe.head(0).to_sql(archive_table_name, engine, if_exists='fail', index=False)\n",
    "except ValueError as e:\n",
    "    print(e)\n",
    "    pass"
   ],
   "metadata": {
    "collapsed": false
   },
   "id": "d61dcf73cfef32bc"
  },
  {
   "cell_type": "markdown",
   "source": [
    "### Załadowanie danych do bazy danych\n"
   ],
   "metadata": {
    "collapsed": false
   },
   "id": "ae66c53cbb891a3e"
  },
  {
   "cell_type": "code",
   "execution_count": null,
   "outputs": [],
   "source": [
    "hourly_dataframe.to_sql(table_name, engine, index=False, if_exists='replace')\n",
    "print(f\"Data pushed to table '{table_name}' successfully.\")"
   ],
   "metadata": {
    "collapsed": false
   },
   "id": "5baf3c008323e161"
  },
  {
   "cell_type": "code",
   "execution_count": null,
   "outputs": [],
   "source": [],
   "metadata": {
    "collapsed": false
   },
   "id": "a4f31263f05d20c0"
  }
 ],
 "metadata": {
  "kernelspec": {
   "display_name": "Python 3",
   "language": "python",
   "name": "python3"
  },
  "language_info": {
   "codemirror_mode": {
    "name": "ipython",
    "version": 2
   },
   "file_extension": ".py",
   "mimetype": "text/x-python",
   "name": "python",
   "nbconvert_exporter": "python",
   "pygments_lexer": "ipython2",
   "version": "2.7.6"
  }
 },
 "nbformat": 4,
 "nbformat_minor": 5
}
