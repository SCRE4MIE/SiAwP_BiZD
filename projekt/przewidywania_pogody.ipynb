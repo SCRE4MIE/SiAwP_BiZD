{
 "cells": [
  {
   "cell_type": "markdown",
   "source": [
    "# Projekt zaliczeniowy\n",
    "## Twórcy:\n",
    "### Magdalena Kobierecka, 141879\n",
    "### Tomasz Rudziński, 155625\n",
    "### Mateusz Baran, 155620"
   ],
   "metadata": {
    "collapsed": false
   },
   "id": "39cae5b3c5140cc2"
  },
  {
   "cell_type": "markdown",
   "source": [
    "# Próba predykcji pogody"
   ],
   "metadata": {
    "collapsed": false
   },
   "id": "799b1bf4b8837db"
  },
  {
   "cell_type": "code",
   "execution_count": 19,
   "outputs": [],
   "source": [
    "#!pip install numpy, pandas, matplotlib, scipy, notebook, requests, tqdm, seaborn, sklearn\n",
    "# open_meteo API:\n",
    "#!pip install openmeteo-requests\n",
    "#!pip install requests-cache retry-requests\n",
    "# posgresql\n",
    "#!pip install sqlalchemy psycopg2"
   ],
   "metadata": {
    "collapsed": false,
    "ExecuteTime": {
     "end_time": "2024-01-23T20:53:33.508082Z",
     "start_time": "2024-01-23T20:53:33.506072Z"
    }
   },
   "id": "1ca1ea6d9e96f208"
  },
  {
   "cell_type": "code",
   "execution_count": 20,
   "outputs": [],
   "source": [
    "weather_condition_mapping = {\n",
    "    0: \"Clear sky\",\n",
    "    1: \"Mainly clear\",\n",
    "    2: \"Partly cloudy\",\n",
    "    3: \"Overcast\",\n",
    "    45: \"Fog\",\n",
    "    48: \"Depositing rime fog\",\n",
    "    51: \"Drizzle: Light intensity\",\n",
    "    53: \"Drizzle: Moderate intensity\",\n",
    "    55: \"Drizzle: Dense intensity\",\n",
    "    56: \"Freezing Drizzle: Light intensity\",\n",
    "    57: \"Freezing Drizzle: Dense intensity\",\n",
    "    61: \"Rain: Slight intensity\",\n",
    "    63: \"Rain: Moderate intensity\",\n",
    "    65: \"Rain: Heavy intensity\",\n",
    "    66: \"Freezing Rain: Light intensity\",\n",
    "    67: \"Freezing Rain: Heavy intensity\",\n",
    "    71: \"Snow fall: Slight intensity\",\n",
    "    73: \"Snow fall: Moderate intensity\",\n",
    "    75: \"Snow fall: Heavy intensity\",\n",
    "    77: \"Snow grains\",\n",
    "    80: \"Rain showers: Slight intensity\",\n",
    "    81: \"Rain showers: Moderate intensity\",\n",
    "    82: \"Rain showers: Violent intensity\",\n",
    "    85: \"Snow showers: Slight intensity\",\n",
    "    86: \"Snow showers: Heavy intensity\",\n",
    "    95: \"Thunderstorm: Slight intensity\",\n",
    "    96: \"Thunderstorm with slight hail\",\n",
    "    99: \"Thunderstorm with heavy hail\",\n",
    "}\n",
    "\n",
    "def decode_weather_condition(code):\n",
    "    \"\"\"Decode WMO codes.\"\"\"\n",
    "    return weather_condition_mapping.get(int(code), \"Unknown\")"
   ],
   "metadata": {
    "collapsed": false,
    "ExecuteTime": {
     "end_time": "2024-01-23T20:53:33.519904Z",
     "start_time": "2024-01-23T20:53:33.509706Z"
    }
   },
   "id": "5b4e3e5d0baec930"
  },
  {
   "cell_type": "markdown",
   "source": [
    "### Próba predykcji pogody (weather_code) przy pomocy modelu RandomForestClassifier"
   ],
   "metadata": {
    "collapsed": false
   },
   "id": "367c855eb34d9f03"
  },
  {
   "cell_type": "code",
   "execution_count": 21,
   "outputs": [],
   "source": [
    "from sklearn.ensemble import RandomForestClassifier\n",
    "model = RandomForestClassifier()"
   ],
   "metadata": {
    "collapsed": false,
    "ExecuteTime": {
     "end_time": "2024-01-23T20:53:33.520198Z",
     "start_time": "2024-01-23T20:53:33.516963Z"
    }
   },
   "id": "db390ad4a3c1f11c"
  },
  {
   "cell_type": "code",
   "execution_count": 22,
   "outputs": [
    {
     "data": {
      "text/plain": "                 date  temperature_2m  relative_humidity_2m  dew_point_2m  \\\n0 2014-01-21 23:00:00        -12.2455             77.992210      -15.2955   \n1 2014-01-22 00:00:00        -12.5955             78.906710      -15.4955   \n2 2014-01-22 01:00:00        -13.0955             79.482290      -15.8955   \n3 2014-01-22 02:00:00        -13.5955             79.402210      -16.3955   \n4 2014-01-22 03:00:00        -14.2455             79.965004      -16.9455   \n\n   apparent_temperature  precipitation  rain  snowfall  snow_depth  \\\n0            -17.457428            0.0   0.0       0.0        0.03   \n1            -17.818140            0.0   0.0       0.0        0.03   \n2            -18.356918            0.0   0.0       0.0        0.03   \n3            -18.782642            0.0   0.0       0.0        0.03   \n4            -19.325504            0.0   0.0       0.0        0.03   \n\n   weather_code  ...  wind_gusts_10m  soil_temperature_0_to_7cm  \\\n0           1.0  ...       20.880001                    -2.6955   \n1           1.0  ...       20.880001                    -2.7455   \n2           1.0  ...       20.519999                    -2.8955   \n3           1.0  ...       20.880001                    -2.9455   \n4           1.0  ...       20.880001                    -3.0955   \n\n   soil_temperature_7_to_28cm  soil_temperature_28_to_100cm  \\\n0                     -0.7955                        0.9045   \n1                     -0.7955                        0.9045   \n2                     -0.8455                        0.9045   \n3                     -0.8455                        0.8545   \n4                     -0.8455                        0.8545   \n\n   soil_temperature_100_to_255cm  soil_moisture_0_to_7cm  \\\n0                         3.1545                    0.37   \n1                         3.1545                    0.37   \n2                         3.1045                    0.37   \n3                         3.1045                    0.37   \n4                         3.1045                    0.37   \n\n   soil_moisture_7_to_28cm  soil_moisture_28_to_100cm  \\\n0                    0.377                      0.392   \n1                    0.377                      0.392   \n2                    0.377                      0.392   \n3                    0.377                      0.392   \n4                    0.376                      0.392   \n\n   soil_moisture_100_to_255cm  id  \n0                       0.376   1  \n1                       0.376   2  \n2                       0.376   3  \n3                       0.376   4  \n4                       0.376   5  \n\n[5 rows x 32 columns]",
      "text/html": "<div>\n<style scoped>\n    .dataframe tbody tr th:only-of-type {\n        vertical-align: middle;\n    }\n\n    .dataframe tbody tr th {\n        vertical-align: top;\n    }\n\n    .dataframe thead th {\n        text-align: right;\n    }\n</style>\n<table border=\"1\" class=\"dataframe\">\n  <thead>\n    <tr style=\"text-align: right;\">\n      <th></th>\n      <th>date</th>\n      <th>temperature_2m</th>\n      <th>relative_humidity_2m</th>\n      <th>dew_point_2m</th>\n      <th>apparent_temperature</th>\n      <th>precipitation</th>\n      <th>rain</th>\n      <th>snowfall</th>\n      <th>snow_depth</th>\n      <th>weather_code</th>\n      <th>...</th>\n      <th>wind_gusts_10m</th>\n      <th>soil_temperature_0_to_7cm</th>\n      <th>soil_temperature_7_to_28cm</th>\n      <th>soil_temperature_28_to_100cm</th>\n      <th>soil_temperature_100_to_255cm</th>\n      <th>soil_moisture_0_to_7cm</th>\n      <th>soil_moisture_7_to_28cm</th>\n      <th>soil_moisture_28_to_100cm</th>\n      <th>soil_moisture_100_to_255cm</th>\n      <th>id</th>\n    </tr>\n  </thead>\n  <tbody>\n    <tr>\n      <th>0</th>\n      <td>2014-01-21 23:00:00</td>\n      <td>-12.2455</td>\n      <td>77.992210</td>\n      <td>-15.2955</td>\n      <td>-17.457428</td>\n      <td>0.0</td>\n      <td>0.0</td>\n      <td>0.0</td>\n      <td>0.03</td>\n      <td>1.0</td>\n      <td>...</td>\n      <td>20.880001</td>\n      <td>-2.6955</td>\n      <td>-0.7955</td>\n      <td>0.9045</td>\n      <td>3.1545</td>\n      <td>0.37</td>\n      <td>0.377</td>\n      <td>0.392</td>\n      <td>0.376</td>\n      <td>1</td>\n    </tr>\n    <tr>\n      <th>1</th>\n      <td>2014-01-22 00:00:00</td>\n      <td>-12.5955</td>\n      <td>78.906710</td>\n      <td>-15.4955</td>\n      <td>-17.818140</td>\n      <td>0.0</td>\n      <td>0.0</td>\n      <td>0.0</td>\n      <td>0.03</td>\n      <td>1.0</td>\n      <td>...</td>\n      <td>20.880001</td>\n      <td>-2.7455</td>\n      <td>-0.7955</td>\n      <td>0.9045</td>\n      <td>3.1545</td>\n      <td>0.37</td>\n      <td>0.377</td>\n      <td>0.392</td>\n      <td>0.376</td>\n      <td>2</td>\n    </tr>\n    <tr>\n      <th>2</th>\n      <td>2014-01-22 01:00:00</td>\n      <td>-13.0955</td>\n      <td>79.482290</td>\n      <td>-15.8955</td>\n      <td>-18.356918</td>\n      <td>0.0</td>\n      <td>0.0</td>\n      <td>0.0</td>\n      <td>0.03</td>\n      <td>1.0</td>\n      <td>...</td>\n      <td>20.519999</td>\n      <td>-2.8955</td>\n      <td>-0.8455</td>\n      <td>0.9045</td>\n      <td>3.1045</td>\n      <td>0.37</td>\n      <td>0.377</td>\n      <td>0.392</td>\n      <td>0.376</td>\n      <td>3</td>\n    </tr>\n    <tr>\n      <th>3</th>\n      <td>2014-01-22 02:00:00</td>\n      <td>-13.5955</td>\n      <td>79.402210</td>\n      <td>-16.3955</td>\n      <td>-18.782642</td>\n      <td>0.0</td>\n      <td>0.0</td>\n      <td>0.0</td>\n      <td>0.03</td>\n      <td>1.0</td>\n      <td>...</td>\n      <td>20.880001</td>\n      <td>-2.9455</td>\n      <td>-0.8455</td>\n      <td>0.8545</td>\n      <td>3.1045</td>\n      <td>0.37</td>\n      <td>0.377</td>\n      <td>0.392</td>\n      <td>0.376</td>\n      <td>4</td>\n    </tr>\n    <tr>\n      <th>4</th>\n      <td>2014-01-22 03:00:00</td>\n      <td>-14.2455</td>\n      <td>79.965004</td>\n      <td>-16.9455</td>\n      <td>-19.325504</td>\n      <td>0.0</td>\n      <td>0.0</td>\n      <td>0.0</td>\n      <td>0.03</td>\n      <td>1.0</td>\n      <td>...</td>\n      <td>20.880001</td>\n      <td>-3.0955</td>\n      <td>-0.8455</td>\n      <td>0.8545</td>\n      <td>3.1045</td>\n      <td>0.37</td>\n      <td>0.376</td>\n      <td>0.392</td>\n      <td>0.376</td>\n      <td>5</td>\n    </tr>\n  </tbody>\n</table>\n<p>5 rows × 32 columns</p>\n</div>"
     },
     "execution_count": 22,
     "metadata": {},
     "output_type": "execute_result"
    }
   ],
   "source": [
    "from utils import get_data\n",
    "df = get_data()\n",
    "df.head()\n"
   ],
   "metadata": {
    "collapsed": false,
    "ExecuteTime": {
     "end_time": "2024-01-23T20:53:34.279594Z",
     "start_time": "2024-01-23T20:53:33.522041Z"
    }
   },
   "id": "dce706dfe18b2351"
  },
  {
   "cell_type": "code",
   "execution_count": 23,
   "outputs": [
    {
     "data": {
      "text/plain": "   temperature_2m  relative_humidity_2m  dew_point_2m  apparent_temperature  \\\n0        -12.2455             77.992210      -15.2955            -17.457428   \n1        -12.5955             78.906710      -15.4955            -17.818140   \n2        -13.0955             79.482290      -15.8955            -18.356918   \n3        -13.5955             79.402210      -16.3955            -18.782642   \n4        -14.2455             79.965004      -16.9455            -19.325504   \n\n   precipitation  rain  snowfall  snow_depth  pressure_msl  surface_pressure  \\\n0            0.0   0.0       0.0        0.03        1020.9        1004.48340   \n1            0.0   0.0       0.0        0.03        1020.7        1004.26447   \n2            0.0   0.0       0.0        0.03        1020.5        1004.03644   \n3            0.0   0.0       0.0        0.03        1020.8        1004.30040   \n4            0.0   0.0       0.0        0.03        1020.7        1004.16095   \n\n   ...  wind_direction_100m  wind_gusts_10m  soil_temperature_0_to_7cm  \\\n0  ...            78.690100       20.880001                    -2.6955   \n1  ...            76.464134       20.880001                    -2.7455   \n2  ...            74.475830       20.519999                    -2.8955   \n3  ...            79.508580       20.880001                    -2.9455   \n4  ...            79.114520       20.880001                    -3.0955   \n\n   soil_temperature_7_to_28cm  soil_temperature_28_to_100cm  \\\n0                     -0.7955                        0.9045   \n1                     -0.7955                        0.9045   \n2                     -0.8455                        0.9045   \n3                     -0.8455                        0.8545   \n4                     -0.8455                        0.8545   \n\n   soil_temperature_100_to_255cm  soil_moisture_0_to_7cm  \\\n0                         3.1545                    0.37   \n1                         3.1545                    0.37   \n2                         3.1045                    0.37   \n3                         3.1045                    0.37   \n4                         3.1045                    0.37   \n\n   soil_moisture_7_to_28cm  soil_moisture_28_to_100cm  \\\n0                    0.377                      0.392   \n1                    0.377                      0.392   \n2                    0.377                      0.392   \n3                    0.377                      0.392   \n4                    0.376                      0.392   \n\n   soil_moisture_100_to_255cm  \n0                       0.376  \n1                       0.376  \n2                       0.376  \n3                       0.376  \n4                       0.376  \n\n[5 rows x 29 columns]",
      "text/html": "<div>\n<style scoped>\n    .dataframe tbody tr th:only-of-type {\n        vertical-align: middle;\n    }\n\n    .dataframe tbody tr th {\n        vertical-align: top;\n    }\n\n    .dataframe thead th {\n        text-align: right;\n    }\n</style>\n<table border=\"1\" class=\"dataframe\">\n  <thead>\n    <tr style=\"text-align: right;\">\n      <th></th>\n      <th>temperature_2m</th>\n      <th>relative_humidity_2m</th>\n      <th>dew_point_2m</th>\n      <th>apparent_temperature</th>\n      <th>precipitation</th>\n      <th>rain</th>\n      <th>snowfall</th>\n      <th>snow_depth</th>\n      <th>pressure_msl</th>\n      <th>surface_pressure</th>\n      <th>...</th>\n      <th>wind_direction_100m</th>\n      <th>wind_gusts_10m</th>\n      <th>soil_temperature_0_to_7cm</th>\n      <th>soil_temperature_7_to_28cm</th>\n      <th>soil_temperature_28_to_100cm</th>\n      <th>soil_temperature_100_to_255cm</th>\n      <th>soil_moisture_0_to_7cm</th>\n      <th>soil_moisture_7_to_28cm</th>\n      <th>soil_moisture_28_to_100cm</th>\n      <th>soil_moisture_100_to_255cm</th>\n    </tr>\n  </thead>\n  <tbody>\n    <tr>\n      <th>0</th>\n      <td>-12.2455</td>\n      <td>77.992210</td>\n      <td>-15.2955</td>\n      <td>-17.457428</td>\n      <td>0.0</td>\n      <td>0.0</td>\n      <td>0.0</td>\n      <td>0.03</td>\n      <td>1020.9</td>\n      <td>1004.48340</td>\n      <td>...</td>\n      <td>78.690100</td>\n      <td>20.880001</td>\n      <td>-2.6955</td>\n      <td>-0.7955</td>\n      <td>0.9045</td>\n      <td>3.1545</td>\n      <td>0.37</td>\n      <td>0.377</td>\n      <td>0.392</td>\n      <td>0.376</td>\n    </tr>\n    <tr>\n      <th>1</th>\n      <td>-12.5955</td>\n      <td>78.906710</td>\n      <td>-15.4955</td>\n      <td>-17.818140</td>\n      <td>0.0</td>\n      <td>0.0</td>\n      <td>0.0</td>\n      <td>0.03</td>\n      <td>1020.7</td>\n      <td>1004.26447</td>\n      <td>...</td>\n      <td>76.464134</td>\n      <td>20.880001</td>\n      <td>-2.7455</td>\n      <td>-0.7955</td>\n      <td>0.9045</td>\n      <td>3.1545</td>\n      <td>0.37</td>\n      <td>0.377</td>\n      <td>0.392</td>\n      <td>0.376</td>\n    </tr>\n    <tr>\n      <th>2</th>\n      <td>-13.0955</td>\n      <td>79.482290</td>\n      <td>-15.8955</td>\n      <td>-18.356918</td>\n      <td>0.0</td>\n      <td>0.0</td>\n      <td>0.0</td>\n      <td>0.03</td>\n      <td>1020.5</td>\n      <td>1004.03644</td>\n      <td>...</td>\n      <td>74.475830</td>\n      <td>20.519999</td>\n      <td>-2.8955</td>\n      <td>-0.8455</td>\n      <td>0.9045</td>\n      <td>3.1045</td>\n      <td>0.37</td>\n      <td>0.377</td>\n      <td>0.392</td>\n      <td>0.376</td>\n    </tr>\n    <tr>\n      <th>3</th>\n      <td>-13.5955</td>\n      <td>79.402210</td>\n      <td>-16.3955</td>\n      <td>-18.782642</td>\n      <td>0.0</td>\n      <td>0.0</td>\n      <td>0.0</td>\n      <td>0.03</td>\n      <td>1020.8</td>\n      <td>1004.30040</td>\n      <td>...</td>\n      <td>79.508580</td>\n      <td>20.880001</td>\n      <td>-2.9455</td>\n      <td>-0.8455</td>\n      <td>0.8545</td>\n      <td>3.1045</td>\n      <td>0.37</td>\n      <td>0.377</td>\n      <td>0.392</td>\n      <td>0.376</td>\n    </tr>\n    <tr>\n      <th>4</th>\n      <td>-14.2455</td>\n      <td>79.965004</td>\n      <td>-16.9455</td>\n      <td>-19.325504</td>\n      <td>0.0</td>\n      <td>0.0</td>\n      <td>0.0</td>\n      <td>0.03</td>\n      <td>1020.7</td>\n      <td>1004.16095</td>\n      <td>...</td>\n      <td>79.114520</td>\n      <td>20.880001</td>\n      <td>-3.0955</td>\n      <td>-0.8455</td>\n      <td>0.8545</td>\n      <td>3.1045</td>\n      <td>0.37</td>\n      <td>0.376</td>\n      <td>0.392</td>\n      <td>0.376</td>\n    </tr>\n  </tbody>\n</table>\n<p>5 rows × 29 columns</p>\n</div>"
     },
     "execution_count": 23,
     "metadata": {},
     "output_type": "execute_result"
    }
   ],
   "source": [
    "X = df.drop(columns=['date', 'id', 'weather_code'])\n",
    "X.head()"
   ],
   "metadata": {
    "collapsed": false,
    "ExecuteTime": {
     "end_time": "2024-01-23T20:53:34.290819Z",
     "start_time": "2024-01-23T20:53:34.279773Z"
    }
   },
   "id": "d4802cccc7241c2f"
  },
  {
   "cell_type": "code",
   "execution_count": 24,
   "outputs": [
    {
     "data": {
      "text/plain": "0    1\n1    1\n2    1\n3    1\n4    1\nName: weather_code, dtype: int64"
     },
     "execution_count": 24,
     "metadata": {},
     "output_type": "execute_result"
    }
   ],
   "source": [
    "y = df['weather_code'].astype(int)\n",
    "y.head()"
   ],
   "metadata": {
    "collapsed": false,
    "ExecuteTime": {
     "end_time": "2024-01-23T20:53:34.296193Z",
     "start_time": "2024-01-23T20:53:34.291157Z"
    }
   },
   "id": "b0b8aa5d096b845a"
  },
  {
   "cell_type": "code",
   "execution_count": 25,
   "outputs": [],
   "source": [
    "from sklearn.model_selection import train_test_split\n",
    "\n",
    "X_train, X_test, y_train, y_test = train_test_split(X, y, test_size=0.3, random_state=42)\n"
   ],
   "metadata": {
    "collapsed": false,
    "ExecuteTime": {
     "end_time": "2024-01-23T20:53:34.359892Z",
     "start_time": "2024-01-23T20:53:34.295499Z"
    }
   },
   "id": "998a236251b2c847"
  },
  {
   "cell_type": "code",
   "execution_count": 26,
   "outputs": [
    {
     "data": {
      "text/plain": "RandomForestClassifier()",
      "text/html": "<style>#sk-container-id-2 {\n  /* Definition of color scheme common for light and dark mode */\n  --sklearn-color-text: black;\n  --sklearn-color-line: gray;\n  /* Definition of color scheme for unfitted estimators */\n  --sklearn-color-unfitted-level-0: #fff5e6;\n  --sklearn-color-unfitted-level-1: #f6e4d2;\n  --sklearn-color-unfitted-level-2: #ffe0b3;\n  --sklearn-color-unfitted-level-3: chocolate;\n  /* Definition of color scheme for fitted estimators */\n  --sklearn-color-fitted-level-0: #f0f8ff;\n  --sklearn-color-fitted-level-1: #d4ebff;\n  --sklearn-color-fitted-level-2: #b3dbfd;\n  --sklearn-color-fitted-level-3: cornflowerblue;\n\n  /* Specific color for light theme */\n  --sklearn-color-text-on-default-background: var(--sg-text-color, var(--theme-code-foreground, var(--jp-content-font-color1, black)));\n  --sklearn-color-background: var(--sg-background-color, var(--theme-background, var(--jp-layout-color0, white)));\n  --sklearn-color-border-box: var(--sg-text-color, var(--theme-code-foreground, var(--jp-content-font-color1, black)));\n  --sklearn-color-icon: #696969;\n\n  @media (prefers-color-scheme: dark) {\n    /* Redefinition of color scheme for dark theme */\n    --sklearn-color-text-on-default-background: var(--sg-text-color, var(--theme-code-foreground, var(--jp-content-font-color1, white)));\n    --sklearn-color-background: var(--sg-background-color, var(--theme-background, var(--jp-layout-color0, #111)));\n    --sklearn-color-border-box: var(--sg-text-color, var(--theme-code-foreground, var(--jp-content-font-color1, white)));\n    --sklearn-color-icon: #878787;\n  }\n}\n\n#sk-container-id-2 {\n  color: var(--sklearn-color-text);\n}\n\n#sk-container-id-2 pre {\n  padding: 0;\n}\n\n#sk-container-id-2 input.sk-hidden--visually {\n  border: 0;\n  clip: rect(1px 1px 1px 1px);\n  clip: rect(1px, 1px, 1px, 1px);\n  height: 1px;\n  margin: -1px;\n  overflow: hidden;\n  padding: 0;\n  position: absolute;\n  width: 1px;\n}\n\n#sk-container-id-2 div.sk-dashed-wrapped {\n  border: 1px dashed var(--sklearn-color-line);\n  margin: 0 0.4em 0.5em 0.4em;\n  box-sizing: border-box;\n  padding-bottom: 0.4em;\n  background-color: var(--sklearn-color-background);\n}\n\n#sk-container-id-2 div.sk-container {\n  /* jupyter's `normalize.less` sets `[hidden] { display: none; }`\n     but bootstrap.min.css set `[hidden] { display: none !important; }`\n     so we also need the `!important` here to be able to override the\n     default hidden behavior on the sphinx rendered scikit-learn.org.\n     See: https://github.com/scikit-learn/scikit-learn/issues/21755 */\n  display: inline-block !important;\n  position: relative;\n}\n\n#sk-container-id-2 div.sk-text-repr-fallback {\n  display: none;\n}\n\ndiv.sk-parallel-item,\ndiv.sk-serial,\ndiv.sk-item {\n  /* draw centered vertical line to link estimators */\n  background-image: linear-gradient(var(--sklearn-color-text-on-default-background), var(--sklearn-color-text-on-default-background));\n  background-size: 2px 100%;\n  background-repeat: no-repeat;\n  background-position: center center;\n}\n\n/* Parallel-specific style estimator block */\n\n#sk-container-id-2 div.sk-parallel-item::after {\n  content: \"\";\n  width: 100%;\n  border-bottom: 2px solid var(--sklearn-color-text-on-default-background);\n  flex-grow: 1;\n}\n\n#sk-container-id-2 div.sk-parallel {\n  display: flex;\n  align-items: stretch;\n  justify-content: center;\n  background-color: var(--sklearn-color-background);\n  position: relative;\n}\n\n#sk-container-id-2 div.sk-parallel-item {\n  display: flex;\n  flex-direction: column;\n}\n\n#sk-container-id-2 div.sk-parallel-item:first-child::after {\n  align-self: flex-end;\n  width: 50%;\n}\n\n#sk-container-id-2 div.sk-parallel-item:last-child::after {\n  align-self: flex-start;\n  width: 50%;\n}\n\n#sk-container-id-2 div.sk-parallel-item:only-child::after {\n  width: 0;\n}\n\n/* Serial-specific style estimator block */\n\n#sk-container-id-2 div.sk-serial {\n  display: flex;\n  flex-direction: column;\n  align-items: center;\n  background-color: var(--sklearn-color-background);\n  padding-right: 1em;\n  padding-left: 1em;\n}\n\n\n/* Toggleable style: style used for estimator/Pipeline/ColumnTransformer box that is\nclickable and can be expanded/collapsed.\n- Pipeline and ColumnTransformer use this feature and define the default style\n- Estimators will overwrite some part of the style using the `sk-estimator` class\n*/\n\n/* Pipeline and ColumnTransformer style (default) */\n\n#sk-container-id-2 div.sk-toggleable {\n  /* Default theme specific background. It is overwritten whether we have a\n  specific estimator or a Pipeline/ColumnTransformer */\n  background-color: var(--sklearn-color-background);\n}\n\n/* Toggleable label */\n#sk-container-id-2 label.sk-toggleable__label {\n  cursor: pointer;\n  display: block;\n  width: 100%;\n  margin-bottom: 0;\n  padding: 0.5em;\n  box-sizing: border-box;\n  text-align: center;\n}\n\n#sk-container-id-2 label.sk-toggleable__label-arrow:before {\n  /* Arrow on the left of the label */\n  content: \"▸\";\n  float: left;\n  margin-right: 0.25em;\n  color: var(--sklearn-color-icon);\n}\n\n#sk-container-id-2 label.sk-toggleable__label-arrow:hover:before {\n  color: var(--sklearn-color-text);\n}\n\n/* Toggleable content - dropdown */\n\n#sk-container-id-2 div.sk-toggleable__content {\n  max-height: 0;\n  max-width: 0;\n  overflow: hidden;\n  text-align: left;\n  /* unfitted */\n  background-color: var(--sklearn-color-unfitted-level-0);\n}\n\n#sk-container-id-2 div.sk-toggleable__content.fitted {\n  /* fitted */\n  background-color: var(--sklearn-color-fitted-level-0);\n}\n\n#sk-container-id-2 div.sk-toggleable__content pre {\n  margin: 0.2em;\n  border-radius: 0.25em;\n  color: var(--sklearn-color-text);\n  /* unfitted */\n  background-color: var(--sklearn-color-unfitted-level-0);\n}\n\n#sk-container-id-2 div.sk-toggleable__content.fitted pre {\n  /* unfitted */\n  background-color: var(--sklearn-color-fitted-level-0);\n}\n\n#sk-container-id-2 input.sk-toggleable__control:checked~div.sk-toggleable__content {\n  /* Expand drop-down */\n  max-height: 200px;\n  max-width: 100%;\n  overflow: auto;\n}\n\n#sk-container-id-2 input.sk-toggleable__control:checked~label.sk-toggleable__label-arrow:before {\n  content: \"▾\";\n}\n\n/* Pipeline/ColumnTransformer-specific style */\n\n#sk-container-id-2 div.sk-label input.sk-toggleable__control:checked~label.sk-toggleable__label {\n  color: var(--sklearn-color-text);\n  background-color: var(--sklearn-color-unfitted-level-2);\n}\n\n#sk-container-id-2 div.sk-label.fitted input.sk-toggleable__control:checked~label.sk-toggleable__label {\n  background-color: var(--sklearn-color-fitted-level-2);\n}\n\n/* Estimator-specific style */\n\n/* Colorize estimator box */\n#sk-container-id-2 div.sk-estimator input.sk-toggleable__control:checked~label.sk-toggleable__label {\n  /* unfitted */\n  background-color: var(--sklearn-color-unfitted-level-2);\n}\n\n#sk-container-id-2 div.sk-estimator.fitted input.sk-toggleable__control:checked~label.sk-toggleable__label {\n  /* fitted */\n  background-color: var(--sklearn-color-fitted-level-2);\n}\n\n#sk-container-id-2 div.sk-label label.sk-toggleable__label,\n#sk-container-id-2 div.sk-label label {\n  /* The background is the default theme color */\n  color: var(--sklearn-color-text-on-default-background);\n}\n\n/* On hover, darken the color of the background */\n#sk-container-id-2 div.sk-label:hover label.sk-toggleable__label {\n  color: var(--sklearn-color-text);\n  background-color: var(--sklearn-color-unfitted-level-2);\n}\n\n/* Label box, darken color on hover, fitted */\n#sk-container-id-2 div.sk-label.fitted:hover label.sk-toggleable__label.fitted {\n  color: var(--sklearn-color-text);\n  background-color: var(--sklearn-color-fitted-level-2);\n}\n\n/* Estimator label */\n\n#sk-container-id-2 div.sk-label label {\n  font-family: monospace;\n  font-weight: bold;\n  display: inline-block;\n  line-height: 1.2em;\n}\n\n#sk-container-id-2 div.sk-label-container {\n  text-align: center;\n}\n\n/* Estimator-specific */\n#sk-container-id-2 div.sk-estimator {\n  font-family: monospace;\n  border: 1px dotted var(--sklearn-color-border-box);\n  border-radius: 0.25em;\n  box-sizing: border-box;\n  margin-bottom: 0.5em;\n  /* unfitted */\n  background-color: var(--sklearn-color-unfitted-level-0);\n}\n\n#sk-container-id-2 div.sk-estimator.fitted {\n  /* fitted */\n  background-color: var(--sklearn-color-fitted-level-0);\n}\n\n/* on hover */\n#sk-container-id-2 div.sk-estimator:hover {\n  /* unfitted */\n  background-color: var(--sklearn-color-unfitted-level-2);\n}\n\n#sk-container-id-2 div.sk-estimator.fitted:hover {\n  /* fitted */\n  background-color: var(--sklearn-color-fitted-level-2);\n}\n\n/* Specification for estimator info (e.g. \"i\" and \"?\") */\n\n/* Common style for \"i\" and \"?\" */\n\n.sk-estimator-doc-link,\na:link.sk-estimator-doc-link,\na:visited.sk-estimator-doc-link {\n  float: right;\n  font-size: smaller;\n  line-height: 1em;\n  font-family: monospace;\n  background-color: var(--sklearn-color-background);\n  border-radius: 1em;\n  height: 1em;\n  width: 1em;\n  text-decoration: none !important;\n  margin-left: 1ex;\n  /* unfitted */\n  border: var(--sklearn-color-unfitted-level-1) 1pt solid;\n  color: var(--sklearn-color-unfitted-level-1);\n}\n\n.sk-estimator-doc-link.fitted,\na:link.sk-estimator-doc-link.fitted,\na:visited.sk-estimator-doc-link.fitted {\n  /* fitted */\n  border: var(--sklearn-color-fitted-level-1) 1pt solid;\n  color: var(--sklearn-color-fitted-level-1);\n}\n\n/* On hover */\ndiv.sk-estimator:hover .sk-estimator-doc-link:hover,\n.sk-estimator-doc-link:hover,\ndiv.sk-label-container:hover .sk-estimator-doc-link:hover,\n.sk-estimator-doc-link:hover {\n  /* unfitted */\n  background-color: var(--sklearn-color-unfitted-level-3);\n  color: var(--sklearn-color-background);\n  text-decoration: none;\n}\n\ndiv.sk-estimator.fitted:hover .sk-estimator-doc-link.fitted:hover,\n.sk-estimator-doc-link.fitted:hover,\ndiv.sk-label-container:hover .sk-estimator-doc-link.fitted:hover,\n.sk-estimator-doc-link.fitted:hover {\n  /* fitted */\n  background-color: var(--sklearn-color-fitted-level-3);\n  color: var(--sklearn-color-background);\n  text-decoration: none;\n}\n\n/* Span, style for the box shown on hovering the info icon */\n.sk-estimator-doc-link span {\n  display: none;\n  z-index: 9999;\n  position: relative;\n  font-weight: normal;\n  right: .2ex;\n  padding: .5ex;\n  margin: .5ex;\n  width: min-content;\n  min-width: 20ex;\n  max-width: 50ex;\n  color: var(--sklearn-color-text);\n  box-shadow: 2pt 2pt 4pt #999;\n  /* unfitted */\n  background: var(--sklearn-color-unfitted-level-0);\n  border: .5pt solid var(--sklearn-color-unfitted-level-3);\n}\n\n.sk-estimator-doc-link.fitted span {\n  /* fitted */\n  background: var(--sklearn-color-fitted-level-0);\n  border: var(--sklearn-color-fitted-level-3);\n}\n\n.sk-estimator-doc-link:hover span {\n  display: block;\n}\n\n/* \"?\"-specific style due to the `<a>` HTML tag */\n\n#sk-container-id-2 a.estimator_doc_link {\n  float: right;\n  font-size: 1rem;\n  line-height: 1em;\n  font-family: monospace;\n  background-color: var(--sklearn-color-background);\n  border-radius: 1rem;\n  height: 1rem;\n  width: 1rem;\n  text-decoration: none;\n  /* unfitted */\n  color: var(--sklearn-color-unfitted-level-1);\n  border: var(--sklearn-color-unfitted-level-1) 1pt solid;\n}\n\n#sk-container-id-2 a.estimator_doc_link.fitted {\n  /* fitted */\n  border: var(--sklearn-color-fitted-level-1) 1pt solid;\n  color: var(--sklearn-color-fitted-level-1);\n}\n\n/* On hover */\n#sk-container-id-2 a.estimator_doc_link:hover {\n  /* unfitted */\n  background-color: var(--sklearn-color-unfitted-level-3);\n  color: var(--sklearn-color-background);\n  text-decoration: none;\n}\n\n#sk-container-id-2 a.estimator_doc_link.fitted:hover {\n  /* fitted */\n  background-color: var(--sklearn-color-fitted-level-3);\n}\n</style><div id=\"sk-container-id-2\" class=\"sk-top-container\"><div class=\"sk-text-repr-fallback\"><pre>RandomForestClassifier()</pre><b>In a Jupyter environment, please rerun this cell to show the HTML representation or trust the notebook. <br />On GitHub, the HTML representation is unable to render, please try loading this page with nbviewer.org.</b></div><div class=\"sk-container\" hidden><div class=\"sk-item\"><div class=\"sk-estimator fitted sk-toggleable\"><input class=\"sk-toggleable__control sk-hidden--visually\" id=\"sk-estimator-id-2\" type=\"checkbox\" checked><label for=\"sk-estimator-id-2\" class=\"sk-toggleable__label fitted sk-toggleable__label-arrow fitted\">&nbsp;&nbsp;RandomForestClassifier<a class=\"sk-estimator-doc-link fitted\" rel=\"noreferrer\" target=\"_blank\" href=\"https://scikit-learn.org/1.4/modules/generated/sklearn.ensemble.RandomForestClassifier.html\">?<span>Documentation for RandomForestClassifier</span></a><span class=\"sk-estimator-doc-link fitted\">i<span>Fitted</span></span></label><div class=\"sk-toggleable__content fitted\"><pre>RandomForestClassifier()</pre></div> </div></div></div></div>"
     },
     "execution_count": 26,
     "metadata": {},
     "output_type": "execute_result"
    }
   ],
   "source": [
    "model.fit(X_train, y_train)"
   ],
   "metadata": {
    "collapsed": false,
    "ExecuteTime": {
     "end_time": "2024-01-23T20:53:44.502782Z",
     "start_time": "2024-01-23T20:53:34.310713Z"
    }
   },
   "id": "1fb873fbf34c2733"
  },
  {
   "cell_type": "code",
   "execution_count": 27,
   "outputs": [
    {
     "name": "stdout",
     "output_type": "stream",
     "text": [
      "Accuracy: 0.9996198007756064\n"
     ]
    }
   ],
   "source": [
    "accuracy = model.score(X_test, y_test)\n",
    "print(f\"Accuracy: {accuracy}\")"
   ],
   "metadata": {
    "collapsed": false,
    "ExecuteTime": {
     "end_time": "2024-01-23T20:53:44.676841Z",
     "start_time": "2024-01-23T20:53:44.503519Z"
    }
   },
   "id": "a2a74bdec2211fed"
  },
  {
   "cell_type": "markdown",
   "source": [
    "Powyższy model daje nam akuratność modelu równą 99%. Model nie jest przetrenowany ponieważ nie osiągnął 100%."
   ],
   "metadata": {
    "collapsed": false
   },
   "id": "affceae930525b52"
  },
  {
   "cell_type": "markdown",
   "source": [
    "### Sprawdzenie predykcji"
   ],
   "metadata": {
    "collapsed": false
   },
   "id": "16bf7172edcdb996"
  },
  {
   "cell_type": "code",
   "execution_count": 28,
   "outputs": [
    {
     "name": "stdout",
     "output_type": "stream",
     "text": [
      "Coordinates 54.23550033569336°E 21.75438690185547°N\n",
      "Elevation 124.0 m asl\n",
      "Timezone b'Europe/Warsaw' b'CET'\n",
      "Timezone difference to GMT+0 3600 s\n",
      "date                             datetime64[ns]\n",
      "temperature_2m                          float32\n",
      "relative_humidity_2m                    float32\n",
      "dew_point_2m                            float32\n",
      "apparent_temperature                    float32\n",
      "precipitation                           float32\n",
      "rain                                    float32\n",
      "snowfall                                float32\n",
      "snow_depth                              float32\n",
      "weather_code                            float32\n",
      "pressure_msl                            float32\n",
      "surface_pressure                        float32\n",
      "cloud_cover                             float32\n",
      "cloud_cover_low                         float32\n",
      "cloud_cover_mid                         float32\n",
      "cloud_cover_high                        float32\n",
      "et0_fao_evapotranspiration              float32\n",
      "vapour_pressure_deficit                 float32\n",
      "wind_speed_10m                          float32\n",
      "wind_speed_100m                         float32\n",
      "wind_direction_10m                      float32\n",
      "wind_direction_100m                     float32\n",
      "wind_gusts_10m                          float32\n",
      "soil_temperature_0_to_7cm               float32\n",
      "soil_temperature_7_to_28cm              float32\n",
      "soil_temperature_28_to_100cm            float32\n",
      "soil_temperature_100_to_255cm           float32\n",
      "soil_moisture_0_to_7cm                  float32\n",
      "soil_moisture_7_to_28cm                 float32\n",
      "soil_moisture_28_to_100cm               float32\n",
      "soil_moisture_100_to_255cm              float32\n",
      "dtype: object\n"
     ]
    },
    {
     "data": {
      "text/plain": "                  date  temperature_2m  relative_humidity_2m  dew_point_2m  \\\n0  2024-01-20 23:00:00       -8.938999             94.288536     -9.688999   \n1  2024-01-21 00:00:00       -7.239000             95.102554     -7.889000   \n2  2024-01-21 01:00:00       -7.539000             94.354401     -8.289000   \n3  2024-01-21 02:00:00      -10.938999             91.586731    -12.039000   \n4  2024-01-21 03:00:00      -11.389000             90.820175    -12.589000   \n5  2024-01-21 04:00:00      -10.839000             89.773445    -12.188999   \n6  2024-01-21 05:00:00      -10.688999             89.067802    -12.139000   \n7  2024-01-21 06:00:00      -10.789000             91.964973    -11.839000   \n8  2024-01-21 07:00:00      -10.988999             91.951660    -12.039000   \n9  2024-01-21 08:00:00       -9.389000             93.895576    -10.188999   \n10 2024-01-21 09:00:00       -7.239000             96.213364     -7.739000   \n11 2024-01-21 10:00:00       -5.539000             96.266426     -6.039000   \n12 2024-01-21 11:00:00       -4.389000             92.374390     -5.439000   \n13 2024-01-21 12:00:00       -4.039000             92.395882     -5.089000   \n14 2024-01-21 13:00:00       -3.839000             90.335297     -5.189000   \n15 2024-01-21 14:00:00       -2.339000             90.112190     -3.739000   \n16 2024-01-21 15:00:00       -2.289000             91.814667     -3.439000   \n17 2024-01-21 16:00:00       -2.189000             91.821198     -3.339000   \n18 2024-01-21 17:00:00       -1.639000             91.177498     -2.889000   \n19 2024-01-21 18:00:00       -1.089000             90.209198     -2.489000   \n20 2024-01-21 19:00:00       -0.839000             90.228447     -2.239000   \n21 2024-01-21 20:00:00       -0.539000             89.588554     -2.039000   \n22 2024-01-21 21:00:00       -0.189000             88.307556     -1.889000   \n23 2024-01-21 22:00:00        0.061000             86.720161     -1.889000   \n\n    apparent_temperature  precipitation  rain  snowfall  snow_depth  \\\n0             -13.421212            0.0   0.0       0.0         NaN   \n1             -11.169102            0.0   0.0       0.0         NaN   \n2             -11.291291            0.0   0.0       0.0         NaN   \n3             -14.766438            0.0   0.0       0.0         NaN   \n4             -15.594316            0.0   0.0       0.0         NaN   \n5             -15.122304            0.0   0.0       0.0         NaN   \n6             -15.485909            0.0   0.0       0.0         NaN   \n7             -16.082531            0.0   0.0       0.0         NaN   \n8             -16.797890            0.0   0.0       0.0         NaN   \n9             -14.901248            0.0   0.0       0.0         NaN   \n10            -12.672559            0.0   0.0       0.0         NaN   \n11            -10.849450            0.0   0.0       0.0         NaN   \n12             -9.900405            0.0   0.0       0.0         NaN   \n13             -9.300136            0.0   0.0       0.0         NaN   \n14             -9.378099            0.0   0.0       0.0         NaN   \n15             -7.763411            0.0   0.0       0.0         NaN   \n16             -7.829893            0.0   0.0       0.0         NaN   \n17             -7.876799            0.0   0.0       0.0         NaN   \n18             -7.429594            0.0   0.0       0.0         NaN   \n19             -6.928908            0.0   0.0       0.0         NaN   \n20             -6.859283            0.0   0.0       0.0         NaN   \n21             -6.791774            0.0   0.0       0.0         NaN   \n22             -6.426726            0.0   0.0       0.0         NaN   \n23             -6.252042            0.0   0.0       0.0         NaN   \n\n    weather_code  ...  wind_direction_100m  wind_gusts_10m  \\\n0            0.0  ...           337.248993       11.879999   \n1            3.0  ...           338.629303       10.440001   \n2            3.0  ...            13.392516       10.440001   \n3            3.0  ...            58.392544        5.040000   \n4            3.0  ...           203.962494        6.840000   \n5            3.0  ...           175.601379       10.799999   \n6            3.0  ...           183.366394       15.480000   \n7            3.0  ...           184.144547       20.160000   \n8            3.0  ...           183.366394       24.840000   \n9            3.0  ...           180.643738       25.559999   \n10           3.0  ...           181.952469       27.000000   \n11           3.0  ...           184.969650       33.480000   \n12           3.0  ...           186.892334       36.000000   \n13           3.0  ...           188.035614       34.919998   \n14           3.0  ...           182.489502       34.919998   \n15           3.0  ...           187.853226       41.399998   \n16           2.0  ...           185.946762       37.439999   \n17           3.0  ...           187.193375       39.239998   \n18           3.0  ...           186.927124       41.399998   \n19           3.0  ...           184.720047       43.199997   \n20           3.0  ...           181.481430       46.079998   \n21           2.0  ...           183.721237       49.320000   \n22           3.0  ...           186.493423       50.039997   \n23           3.0  ...           189.688721       51.480000   \n\n    soil_temperature_0_to_7cm  soil_temperature_7_to_28cm  \\\n0                      -1.289                      -1.039   \n1                      -1.289                      -1.039   \n2                      -0.189                      -0.989   \n3                      -0.239                      -0.989   \n4                      -0.239                      -0.939   \n5                      -0.239                      -0.939   \n6                      -0.289                      -0.939   \n7                      -0.289                      -0.939   \n8                      -0.339                      -0.939   \n9                      -0.339                      -0.939   \n10                     -0.339                      -0.939   \n11                     -0.389                      -0.939   \n12                     -0.389                      -0.939   \n13                     -0.389                      -0.939   \n14                     -0.439                      -0.889   \n15                     -0.439                      -0.889   \n16                     -0.439                      -0.889   \n17                     -0.439                      -0.889   \n18                     -0.489                      -0.889   \n19                     -0.489                      -0.889   \n20                     -0.489                      -0.889   \n21                     -0.489                      -0.889   \n22                     -0.489                      -0.889   \n23                     -0.489                      -0.889   \n\n    soil_temperature_28_to_100cm  soil_temperature_100_to_255cm  \\\n0                          0.711                          5.261   \n1                          0.711                          5.261   \n2                          0.711                          5.261   \n3                          0.711                          5.261   \n4                          0.711                          5.261   \n5                          0.711                          5.261   \n6                          0.711                          5.261   \n7                          0.711                          5.211   \n8                          0.711                          5.211   \n9                          0.711                          5.211   \n10                         0.711                          5.211   \n11                         0.711                          5.211   \n12                         0.711                          5.211   \n13                         0.711                          5.211   \n14                         0.711                          5.211   \n15                         0.711                          5.211   \n16                         0.711                          5.211   \n17                         0.711                          5.211   \n18                         0.711                          5.211   \n19                         0.711                          5.161   \n20                         0.711                          5.161   \n21                         0.711                          5.161   \n22                         0.711                          5.161   \n23                         0.711                          5.161   \n\n    soil_moisture_0_to_7cm  soil_moisture_7_to_28cm  \\\n0                    0.356                    0.358   \n1                    0.356                    0.358   \n2                    0.356                    0.358   \n3                    0.356                    0.358   \n4                    0.356                    0.358   \n5                    0.356                    0.358   \n6                    0.356                    0.358   \n7                    0.356                    0.358   \n8                    0.356                    0.358   \n9                    0.356                    0.358   \n10                   0.356                    0.358   \n11                   0.356                    0.358   \n12                   0.356                    0.358   \n13                   0.356                    0.358   \n14                   0.356                    0.358   \n15                   0.356                    0.358   \n16                   0.356                    0.358   \n17                   0.356                    0.358   \n18                   0.356                    0.358   \n19                   0.356                    0.358   \n20                   0.356                    0.358   \n21                   0.355                    0.358   \n22                   0.355                    0.358   \n23                   0.355                    0.357   \n\n    soil_moisture_28_to_100cm  soil_moisture_100_to_255cm  \n0                       0.381                       0.359  \n1                       0.381                       0.359  \n2                       0.381                       0.359  \n3                       0.381                       0.359  \n4                       0.381                       0.359  \n5                       0.381                       0.359  \n6                       0.381                       0.359  \n7                       0.381                       0.359  \n8                       0.381                       0.359  \n9                       0.381                       0.359  \n10                      0.381                       0.359  \n11                      0.381                       0.359  \n12                      0.381                       0.359  \n13                      0.381                       0.359  \n14                      0.381                       0.359  \n15                      0.380                       0.359  \n16                      0.380                       0.359  \n17                      0.380                       0.359  \n18                      0.380                       0.359  \n19                      0.380                       0.359  \n20                      0.380                       0.359  \n21                      0.380                       0.360  \n22                      0.380                       0.360  \n23                      0.380                       0.360  \n\n[24 rows x 31 columns]",
      "text/html": "<div>\n<style scoped>\n    .dataframe tbody tr th:only-of-type {\n        vertical-align: middle;\n    }\n\n    .dataframe tbody tr th {\n        vertical-align: top;\n    }\n\n    .dataframe thead th {\n        text-align: right;\n    }\n</style>\n<table border=\"1\" class=\"dataframe\">\n  <thead>\n    <tr style=\"text-align: right;\">\n      <th></th>\n      <th>date</th>\n      <th>temperature_2m</th>\n      <th>relative_humidity_2m</th>\n      <th>dew_point_2m</th>\n      <th>apparent_temperature</th>\n      <th>precipitation</th>\n      <th>rain</th>\n      <th>snowfall</th>\n      <th>snow_depth</th>\n      <th>weather_code</th>\n      <th>...</th>\n      <th>wind_direction_100m</th>\n      <th>wind_gusts_10m</th>\n      <th>soil_temperature_0_to_7cm</th>\n      <th>soil_temperature_7_to_28cm</th>\n      <th>soil_temperature_28_to_100cm</th>\n      <th>soil_temperature_100_to_255cm</th>\n      <th>soil_moisture_0_to_7cm</th>\n      <th>soil_moisture_7_to_28cm</th>\n      <th>soil_moisture_28_to_100cm</th>\n      <th>soil_moisture_100_to_255cm</th>\n    </tr>\n  </thead>\n  <tbody>\n    <tr>\n      <th>0</th>\n      <td>2024-01-20 23:00:00</td>\n      <td>-8.938999</td>\n      <td>94.288536</td>\n      <td>-9.688999</td>\n      <td>-13.421212</td>\n      <td>0.0</td>\n      <td>0.0</td>\n      <td>0.0</td>\n      <td>NaN</td>\n      <td>0.0</td>\n      <td>...</td>\n      <td>337.248993</td>\n      <td>11.879999</td>\n      <td>-1.289</td>\n      <td>-1.039</td>\n      <td>0.711</td>\n      <td>5.261</td>\n      <td>0.356</td>\n      <td>0.358</td>\n      <td>0.381</td>\n      <td>0.359</td>\n    </tr>\n    <tr>\n      <th>1</th>\n      <td>2024-01-21 00:00:00</td>\n      <td>-7.239000</td>\n      <td>95.102554</td>\n      <td>-7.889000</td>\n      <td>-11.169102</td>\n      <td>0.0</td>\n      <td>0.0</td>\n      <td>0.0</td>\n      <td>NaN</td>\n      <td>3.0</td>\n      <td>...</td>\n      <td>338.629303</td>\n      <td>10.440001</td>\n      <td>-1.289</td>\n      <td>-1.039</td>\n      <td>0.711</td>\n      <td>5.261</td>\n      <td>0.356</td>\n      <td>0.358</td>\n      <td>0.381</td>\n      <td>0.359</td>\n    </tr>\n    <tr>\n      <th>2</th>\n      <td>2024-01-21 01:00:00</td>\n      <td>-7.539000</td>\n      <td>94.354401</td>\n      <td>-8.289000</td>\n      <td>-11.291291</td>\n      <td>0.0</td>\n      <td>0.0</td>\n      <td>0.0</td>\n      <td>NaN</td>\n      <td>3.0</td>\n      <td>...</td>\n      <td>13.392516</td>\n      <td>10.440001</td>\n      <td>-0.189</td>\n      <td>-0.989</td>\n      <td>0.711</td>\n      <td>5.261</td>\n      <td>0.356</td>\n      <td>0.358</td>\n      <td>0.381</td>\n      <td>0.359</td>\n    </tr>\n    <tr>\n      <th>3</th>\n      <td>2024-01-21 02:00:00</td>\n      <td>-10.938999</td>\n      <td>91.586731</td>\n      <td>-12.039000</td>\n      <td>-14.766438</td>\n      <td>0.0</td>\n      <td>0.0</td>\n      <td>0.0</td>\n      <td>NaN</td>\n      <td>3.0</td>\n      <td>...</td>\n      <td>58.392544</td>\n      <td>5.040000</td>\n      <td>-0.239</td>\n      <td>-0.989</td>\n      <td>0.711</td>\n      <td>5.261</td>\n      <td>0.356</td>\n      <td>0.358</td>\n      <td>0.381</td>\n      <td>0.359</td>\n    </tr>\n    <tr>\n      <th>4</th>\n      <td>2024-01-21 03:00:00</td>\n      <td>-11.389000</td>\n      <td>90.820175</td>\n      <td>-12.589000</td>\n      <td>-15.594316</td>\n      <td>0.0</td>\n      <td>0.0</td>\n      <td>0.0</td>\n      <td>NaN</td>\n      <td>3.0</td>\n      <td>...</td>\n      <td>203.962494</td>\n      <td>6.840000</td>\n      <td>-0.239</td>\n      <td>-0.939</td>\n      <td>0.711</td>\n      <td>5.261</td>\n      <td>0.356</td>\n      <td>0.358</td>\n      <td>0.381</td>\n      <td>0.359</td>\n    </tr>\n    <tr>\n      <th>5</th>\n      <td>2024-01-21 04:00:00</td>\n      <td>-10.839000</td>\n      <td>89.773445</td>\n      <td>-12.188999</td>\n      <td>-15.122304</td>\n      <td>0.0</td>\n      <td>0.0</td>\n      <td>0.0</td>\n      <td>NaN</td>\n      <td>3.0</td>\n      <td>...</td>\n      <td>175.601379</td>\n      <td>10.799999</td>\n      <td>-0.239</td>\n      <td>-0.939</td>\n      <td>0.711</td>\n      <td>5.261</td>\n      <td>0.356</td>\n      <td>0.358</td>\n      <td>0.381</td>\n      <td>0.359</td>\n    </tr>\n    <tr>\n      <th>6</th>\n      <td>2024-01-21 05:00:00</td>\n      <td>-10.688999</td>\n      <td>89.067802</td>\n      <td>-12.139000</td>\n      <td>-15.485909</td>\n      <td>0.0</td>\n      <td>0.0</td>\n      <td>0.0</td>\n      <td>NaN</td>\n      <td>3.0</td>\n      <td>...</td>\n      <td>183.366394</td>\n      <td>15.480000</td>\n      <td>-0.289</td>\n      <td>-0.939</td>\n      <td>0.711</td>\n      <td>5.261</td>\n      <td>0.356</td>\n      <td>0.358</td>\n      <td>0.381</td>\n      <td>0.359</td>\n    </tr>\n    <tr>\n      <th>7</th>\n      <td>2024-01-21 06:00:00</td>\n      <td>-10.789000</td>\n      <td>91.964973</td>\n      <td>-11.839000</td>\n      <td>-16.082531</td>\n      <td>0.0</td>\n      <td>0.0</td>\n      <td>0.0</td>\n      <td>NaN</td>\n      <td>3.0</td>\n      <td>...</td>\n      <td>184.144547</td>\n      <td>20.160000</td>\n      <td>-0.289</td>\n      <td>-0.939</td>\n      <td>0.711</td>\n      <td>5.211</td>\n      <td>0.356</td>\n      <td>0.358</td>\n      <td>0.381</td>\n      <td>0.359</td>\n    </tr>\n    <tr>\n      <th>8</th>\n      <td>2024-01-21 07:00:00</td>\n      <td>-10.988999</td>\n      <td>91.951660</td>\n      <td>-12.039000</td>\n      <td>-16.797890</td>\n      <td>0.0</td>\n      <td>0.0</td>\n      <td>0.0</td>\n      <td>NaN</td>\n      <td>3.0</td>\n      <td>...</td>\n      <td>183.366394</td>\n      <td>24.840000</td>\n      <td>-0.339</td>\n      <td>-0.939</td>\n      <td>0.711</td>\n      <td>5.211</td>\n      <td>0.356</td>\n      <td>0.358</td>\n      <td>0.381</td>\n      <td>0.359</td>\n    </tr>\n    <tr>\n      <th>9</th>\n      <td>2024-01-21 08:00:00</td>\n      <td>-9.389000</td>\n      <td>93.895576</td>\n      <td>-10.188999</td>\n      <td>-14.901248</td>\n      <td>0.0</td>\n      <td>0.0</td>\n      <td>0.0</td>\n      <td>NaN</td>\n      <td>3.0</td>\n      <td>...</td>\n      <td>180.643738</td>\n      <td>25.559999</td>\n      <td>-0.339</td>\n      <td>-0.939</td>\n      <td>0.711</td>\n      <td>5.211</td>\n      <td>0.356</td>\n      <td>0.358</td>\n      <td>0.381</td>\n      <td>0.359</td>\n    </tr>\n    <tr>\n      <th>10</th>\n      <td>2024-01-21 09:00:00</td>\n      <td>-7.239000</td>\n      <td>96.213364</td>\n      <td>-7.739000</td>\n      <td>-12.672559</td>\n      <td>0.0</td>\n      <td>0.0</td>\n      <td>0.0</td>\n      <td>NaN</td>\n      <td>3.0</td>\n      <td>...</td>\n      <td>181.952469</td>\n      <td>27.000000</td>\n      <td>-0.339</td>\n      <td>-0.939</td>\n      <td>0.711</td>\n      <td>5.211</td>\n      <td>0.356</td>\n      <td>0.358</td>\n      <td>0.381</td>\n      <td>0.359</td>\n    </tr>\n    <tr>\n      <th>11</th>\n      <td>2024-01-21 10:00:00</td>\n      <td>-5.539000</td>\n      <td>96.266426</td>\n      <td>-6.039000</td>\n      <td>-10.849450</td>\n      <td>0.0</td>\n      <td>0.0</td>\n      <td>0.0</td>\n      <td>NaN</td>\n      <td>3.0</td>\n      <td>...</td>\n      <td>184.969650</td>\n      <td>33.480000</td>\n      <td>-0.389</td>\n      <td>-0.939</td>\n      <td>0.711</td>\n      <td>5.211</td>\n      <td>0.356</td>\n      <td>0.358</td>\n      <td>0.381</td>\n      <td>0.359</td>\n    </tr>\n    <tr>\n      <th>12</th>\n      <td>2024-01-21 11:00:00</td>\n      <td>-4.389000</td>\n      <td>92.374390</td>\n      <td>-5.439000</td>\n      <td>-9.900405</td>\n      <td>0.0</td>\n      <td>0.0</td>\n      <td>0.0</td>\n      <td>NaN</td>\n      <td>3.0</td>\n      <td>...</td>\n      <td>186.892334</td>\n      <td>36.000000</td>\n      <td>-0.389</td>\n      <td>-0.939</td>\n      <td>0.711</td>\n      <td>5.211</td>\n      <td>0.356</td>\n      <td>0.358</td>\n      <td>0.381</td>\n      <td>0.359</td>\n    </tr>\n    <tr>\n      <th>13</th>\n      <td>2024-01-21 12:00:00</td>\n      <td>-4.039000</td>\n      <td>92.395882</td>\n      <td>-5.089000</td>\n      <td>-9.300136</td>\n      <td>0.0</td>\n      <td>0.0</td>\n      <td>0.0</td>\n      <td>NaN</td>\n      <td>3.0</td>\n      <td>...</td>\n      <td>188.035614</td>\n      <td>34.919998</td>\n      <td>-0.389</td>\n      <td>-0.939</td>\n      <td>0.711</td>\n      <td>5.211</td>\n      <td>0.356</td>\n      <td>0.358</td>\n      <td>0.381</td>\n      <td>0.359</td>\n    </tr>\n    <tr>\n      <th>14</th>\n      <td>2024-01-21 13:00:00</td>\n      <td>-3.839000</td>\n      <td>90.335297</td>\n      <td>-5.189000</td>\n      <td>-9.378099</td>\n      <td>0.0</td>\n      <td>0.0</td>\n      <td>0.0</td>\n      <td>NaN</td>\n      <td>3.0</td>\n      <td>...</td>\n      <td>182.489502</td>\n      <td>34.919998</td>\n      <td>-0.439</td>\n      <td>-0.889</td>\n      <td>0.711</td>\n      <td>5.211</td>\n      <td>0.356</td>\n      <td>0.358</td>\n      <td>0.381</td>\n      <td>0.359</td>\n    </tr>\n    <tr>\n      <th>15</th>\n      <td>2024-01-21 14:00:00</td>\n      <td>-2.339000</td>\n      <td>90.112190</td>\n      <td>-3.739000</td>\n      <td>-7.763411</td>\n      <td>0.0</td>\n      <td>0.0</td>\n      <td>0.0</td>\n      <td>NaN</td>\n      <td>3.0</td>\n      <td>...</td>\n      <td>187.853226</td>\n      <td>41.399998</td>\n      <td>-0.439</td>\n      <td>-0.889</td>\n      <td>0.711</td>\n      <td>5.211</td>\n      <td>0.356</td>\n      <td>0.358</td>\n      <td>0.380</td>\n      <td>0.359</td>\n    </tr>\n    <tr>\n      <th>16</th>\n      <td>2024-01-21 15:00:00</td>\n      <td>-2.289000</td>\n      <td>91.814667</td>\n      <td>-3.439000</td>\n      <td>-7.829893</td>\n      <td>0.0</td>\n      <td>0.0</td>\n      <td>0.0</td>\n      <td>NaN</td>\n      <td>2.0</td>\n      <td>...</td>\n      <td>185.946762</td>\n      <td>37.439999</td>\n      <td>-0.439</td>\n      <td>-0.889</td>\n      <td>0.711</td>\n      <td>5.211</td>\n      <td>0.356</td>\n      <td>0.358</td>\n      <td>0.380</td>\n      <td>0.359</td>\n    </tr>\n    <tr>\n      <th>17</th>\n      <td>2024-01-21 16:00:00</td>\n      <td>-2.189000</td>\n      <td>91.821198</td>\n      <td>-3.339000</td>\n      <td>-7.876799</td>\n      <td>0.0</td>\n      <td>0.0</td>\n      <td>0.0</td>\n      <td>NaN</td>\n      <td>3.0</td>\n      <td>...</td>\n      <td>187.193375</td>\n      <td>39.239998</td>\n      <td>-0.439</td>\n      <td>-0.889</td>\n      <td>0.711</td>\n      <td>5.211</td>\n      <td>0.356</td>\n      <td>0.358</td>\n      <td>0.380</td>\n      <td>0.359</td>\n    </tr>\n    <tr>\n      <th>18</th>\n      <td>2024-01-21 17:00:00</td>\n      <td>-1.639000</td>\n      <td>91.177498</td>\n      <td>-2.889000</td>\n      <td>-7.429594</td>\n      <td>0.0</td>\n      <td>0.0</td>\n      <td>0.0</td>\n      <td>NaN</td>\n      <td>3.0</td>\n      <td>...</td>\n      <td>186.927124</td>\n      <td>41.399998</td>\n      <td>-0.489</td>\n      <td>-0.889</td>\n      <td>0.711</td>\n      <td>5.211</td>\n      <td>0.356</td>\n      <td>0.358</td>\n      <td>0.380</td>\n      <td>0.359</td>\n    </tr>\n    <tr>\n      <th>19</th>\n      <td>2024-01-21 18:00:00</td>\n      <td>-1.089000</td>\n      <td>90.209198</td>\n      <td>-2.489000</td>\n      <td>-6.928908</td>\n      <td>0.0</td>\n      <td>0.0</td>\n      <td>0.0</td>\n      <td>NaN</td>\n      <td>3.0</td>\n      <td>...</td>\n      <td>184.720047</td>\n      <td>43.199997</td>\n      <td>-0.489</td>\n      <td>-0.889</td>\n      <td>0.711</td>\n      <td>5.161</td>\n      <td>0.356</td>\n      <td>0.358</td>\n      <td>0.380</td>\n      <td>0.359</td>\n    </tr>\n    <tr>\n      <th>20</th>\n      <td>2024-01-21 19:00:00</td>\n      <td>-0.839000</td>\n      <td>90.228447</td>\n      <td>-2.239000</td>\n      <td>-6.859283</td>\n      <td>0.0</td>\n      <td>0.0</td>\n      <td>0.0</td>\n      <td>NaN</td>\n      <td>3.0</td>\n      <td>...</td>\n      <td>181.481430</td>\n      <td>46.079998</td>\n      <td>-0.489</td>\n      <td>-0.889</td>\n      <td>0.711</td>\n      <td>5.161</td>\n      <td>0.356</td>\n      <td>0.358</td>\n      <td>0.380</td>\n      <td>0.359</td>\n    </tr>\n    <tr>\n      <th>21</th>\n      <td>2024-01-21 20:00:00</td>\n      <td>-0.539000</td>\n      <td>89.588554</td>\n      <td>-2.039000</td>\n      <td>-6.791774</td>\n      <td>0.0</td>\n      <td>0.0</td>\n      <td>0.0</td>\n      <td>NaN</td>\n      <td>2.0</td>\n      <td>...</td>\n      <td>183.721237</td>\n      <td>49.320000</td>\n      <td>-0.489</td>\n      <td>-0.889</td>\n      <td>0.711</td>\n      <td>5.161</td>\n      <td>0.355</td>\n      <td>0.358</td>\n      <td>0.380</td>\n      <td>0.360</td>\n    </tr>\n    <tr>\n      <th>22</th>\n      <td>2024-01-21 21:00:00</td>\n      <td>-0.189000</td>\n      <td>88.307556</td>\n      <td>-1.889000</td>\n      <td>-6.426726</td>\n      <td>0.0</td>\n      <td>0.0</td>\n      <td>0.0</td>\n      <td>NaN</td>\n      <td>3.0</td>\n      <td>...</td>\n      <td>186.493423</td>\n      <td>50.039997</td>\n      <td>-0.489</td>\n      <td>-0.889</td>\n      <td>0.711</td>\n      <td>5.161</td>\n      <td>0.355</td>\n      <td>0.358</td>\n      <td>0.380</td>\n      <td>0.360</td>\n    </tr>\n    <tr>\n      <th>23</th>\n      <td>2024-01-21 22:00:00</td>\n      <td>0.061000</td>\n      <td>86.720161</td>\n      <td>-1.889000</td>\n      <td>-6.252042</td>\n      <td>0.0</td>\n      <td>0.0</td>\n      <td>0.0</td>\n      <td>NaN</td>\n      <td>3.0</td>\n      <td>...</td>\n      <td>189.688721</td>\n      <td>51.480000</td>\n      <td>-0.489</td>\n      <td>-0.889</td>\n      <td>0.711</td>\n      <td>5.161</td>\n      <td>0.355</td>\n      <td>0.357</td>\n      <td>0.380</td>\n      <td>0.360</td>\n    </tr>\n  </tbody>\n</table>\n<p>24 rows × 31 columns</p>\n</div>"
     },
     "execution_count": 28,
     "metadata": {},
     "output_type": "execute_result"
    }
   ],
   "source": [
    "import openmeteo_requests\n",
    "\n",
    "import requests_cache\n",
    "import pandas as pd\n",
    "from retry_requests import retry\n",
    "\n",
    "latitude, longitude = 54.21390216317151, 21.74313646439217\n",
    "start_date, end_date = \"2024-01-21\", \"2024-01-21\"\n",
    "\n",
    "# Setup the Open-Meteo API client with cache and retry on error\n",
    "cache_session = requests_cache.CachedSession('.cache', expire_after=-1)\n",
    "retry_session = retry(cache_session, retries=5, backoff_factor=0.2)\n",
    "openmeteo = openmeteo_requests.Client(session=retry_session)\n",
    "\n",
    "url = \"https://archive-api.open-meteo.com/v1/archive\"\n",
    "params = {\n",
    "    \"latitude\": latitude,\n",
    "    \"longitude\": longitude,\n",
    "    \"start_date\": start_date,\n",
    "    \"end_date\": end_date,\n",
    "    \"hourly\": [\"temperature_2m\", \"relative_humidity_2m\", \"dew_point_2m\", \"apparent_temperature\", \"precipitation\",\n",
    "               \"rain\", \"snowfall\", \"snow_depth\", \"weather_code\", \"pressure_msl\", \"surface_pressure\", \"cloud_cover\",\n",
    "               \"cloud_cover_low\", \"cloud_cover_mid\", \"cloud_cover_high\", \"et0_fao_evapotranspiration\",\n",
    "               \"vapour_pressure_deficit\", \"wind_speed_10m\", \"wind_speed_100m\", \"wind_direction_10m\",\n",
    "               \"wind_direction_100m\", \"wind_gusts_10m\", \"soil_temperature_0_to_7cm\", \"soil_temperature_7_to_28cm\",\n",
    "               \"soil_temperature_28_to_100cm\", \"soil_temperature_100_to_255cm\", \"soil_moisture_0_to_7cm\",\n",
    "               \"soil_moisture_7_to_28cm\", \"soil_moisture_28_to_100cm\", \"soil_moisture_100_to_255cm\"],\n",
    "    \"timezone\": \"auto\"\n",
    "}\n",
    "responses = openmeteo.weather_api(url, params=params)\n",
    "\n",
    "# Process first location. Add a for-loop for multiple locations or weather models\n",
    "response = responses[0]\n",
    "print(f\"Coordinates {response.Latitude()}°E {response.Longitude()}°N\")\n",
    "print(f\"Elevation {response.Elevation()} m asl\")\n",
    "print(f\"Timezone {response.Timezone()} {response.TimezoneAbbreviation()}\")\n",
    "print(f\"Timezone difference to GMT+0 {response.UtcOffsetSeconds()} s\")\n",
    "\n",
    "# Process hourly data. The order of variables needs to be the same as requested.\n",
    "hourly = response.Hourly()\n",
    "hourly_temperature_2m = hourly.Variables(0).ValuesAsNumpy()\n",
    "hourly_relative_humidity_2m = hourly.Variables(1).ValuesAsNumpy()\n",
    "hourly_dew_point_2m = hourly.Variables(2).ValuesAsNumpy()\n",
    "hourly_apparent_temperature = hourly.Variables(3).ValuesAsNumpy()\n",
    "hourly_precipitation = hourly.Variables(4).ValuesAsNumpy()\n",
    "hourly_rain = hourly.Variables(5).ValuesAsNumpy()\n",
    "hourly_snowfall = hourly.Variables(6).ValuesAsNumpy()\n",
    "hourly_snow_depth = hourly.Variables(7).ValuesAsNumpy()\n",
    "hourly_weather_code = hourly.Variables(8).ValuesAsNumpy()\n",
    "hourly_pressure_msl = hourly.Variables(9).ValuesAsNumpy()\n",
    "hourly_surface_pressure = hourly.Variables(10).ValuesAsNumpy()\n",
    "hourly_cloud_cover = hourly.Variables(11).ValuesAsNumpy()\n",
    "hourly_cloud_cover_low = hourly.Variables(12).ValuesAsNumpy()\n",
    "hourly_cloud_cover_mid = hourly.Variables(13).ValuesAsNumpy()\n",
    "hourly_cloud_cover_high = hourly.Variables(14).ValuesAsNumpy()\n",
    "hourly_et0_fao_evapotranspiration = hourly.Variables(15).ValuesAsNumpy()\n",
    "hourly_vapour_pressure_deficit = hourly.Variables(16).ValuesAsNumpy()\n",
    "hourly_wind_speed_10m = hourly.Variables(17).ValuesAsNumpy()\n",
    "hourly_wind_speed_100m = hourly.Variables(18).ValuesAsNumpy()\n",
    "hourly_wind_direction_10m = hourly.Variables(19).ValuesAsNumpy()\n",
    "hourly_wind_direction_100m = hourly.Variables(20).ValuesAsNumpy()\n",
    "hourly_wind_gusts_10m = hourly.Variables(21).ValuesAsNumpy()\n",
    "hourly_soil_temperature_0_to_7cm = hourly.Variables(22).ValuesAsNumpy()\n",
    "hourly_soil_temperature_7_to_28cm = hourly.Variables(23).ValuesAsNumpy()\n",
    "hourly_soil_temperature_28_to_100cm = hourly.Variables(24).ValuesAsNumpy()\n",
    "hourly_soil_temperature_100_to_255cm = hourly.Variables(25).ValuesAsNumpy()\n",
    "hourly_soil_moisture_0_to_7cm = hourly.Variables(26).ValuesAsNumpy()\n",
    "hourly_soil_moisture_7_to_28cm = hourly.Variables(27).ValuesAsNumpy()\n",
    "hourly_soil_moisture_28_to_100cm = hourly.Variables(28).ValuesAsNumpy()\n",
    "hourly_soil_moisture_100_to_255cm = hourly.Variables(29).ValuesAsNumpy()\n",
    "\n",
    "hourly_data = {\"date\": pd.date_range(\n",
    "    start=pd.to_datetime(hourly.Time(), unit=\"s\"),\n",
    "    end=pd.to_datetime(hourly.TimeEnd(), unit=\"s\"),\n",
    "    freq=pd.Timedelta(seconds=hourly.Interval()),\n",
    "    inclusive=\"left\"\n",
    ")}\n",
    "hourly_data[\"temperature_2m\"] = hourly_temperature_2m\n",
    "hourly_data[\"relative_humidity_2m\"] = hourly_relative_humidity_2m\n",
    "hourly_data[\"dew_point_2m\"] = hourly_dew_point_2m\n",
    "hourly_data[\"apparent_temperature\"] = hourly_apparent_temperature\n",
    "hourly_data[\"precipitation\"] = hourly_precipitation\n",
    "hourly_data[\"rain\"] = hourly_rain\n",
    "hourly_data[\"snowfall\"] = hourly_snowfall\n",
    "hourly_data[\"snow_depth\"] = hourly_snow_depth\n",
    "hourly_data[\"weather_code\"] = hourly_weather_code\n",
    "hourly_data[\"pressure_msl\"] = hourly_pressure_msl\n",
    "hourly_data[\"surface_pressure\"] = hourly_surface_pressure\n",
    "hourly_data[\"cloud_cover\"] = hourly_cloud_cover\n",
    "hourly_data[\"cloud_cover_low\"] = hourly_cloud_cover_low\n",
    "hourly_data[\"cloud_cover_mid\"] = hourly_cloud_cover_mid\n",
    "hourly_data[\"cloud_cover_high\"] = hourly_cloud_cover_high\n",
    "hourly_data[\"et0_fao_evapotranspiration\"] = hourly_et0_fao_evapotranspiration\n",
    "hourly_data[\"vapour_pressure_deficit\"] = hourly_vapour_pressure_deficit\n",
    "hourly_data[\"wind_speed_10m\"] = hourly_wind_speed_10m\n",
    "hourly_data[\"wind_speed_100m\"] = hourly_wind_speed_100m\n",
    "hourly_data[\"wind_direction_10m\"] = hourly_wind_direction_10m\n",
    "hourly_data[\"wind_direction_100m\"] = hourly_wind_direction_100m\n",
    "hourly_data[\"wind_gusts_10m\"] = hourly_wind_gusts_10m\n",
    "hourly_data[\"soil_temperature_0_to_7cm\"] = hourly_soil_temperature_0_to_7cm\n",
    "hourly_data[\"soil_temperature_7_to_28cm\"] = hourly_soil_temperature_7_to_28cm\n",
    "hourly_data[\"soil_temperature_28_to_100cm\"] = hourly_soil_temperature_28_to_100cm\n",
    "hourly_data[\"soil_temperature_100_to_255cm\"] = hourly_soil_temperature_100_to_255cm\n",
    "hourly_data[\"soil_moisture_0_to_7cm\"] = hourly_soil_moisture_0_to_7cm\n",
    "hourly_data[\"soil_moisture_7_to_28cm\"] = hourly_soil_moisture_7_to_28cm\n",
    "hourly_data[\"soil_moisture_28_to_100cm\"] = hourly_soil_moisture_28_to_100cm\n",
    "hourly_data[\"soil_moisture_100_to_255cm\"] = hourly_soil_moisture_100_to_255cm\n",
    "\n",
    "hourly_dataframe = pd.DataFrame(data=hourly_data)\n",
    "print(hourly_dataframe.dtypes)\n",
    "hourly_dataframe"
   ],
   "metadata": {
    "collapsed": false,
    "ExecuteTime": {
     "end_time": "2024-01-23T20:53:44.717586Z",
     "start_time": "2024-01-23T20:53:44.682432Z"
    }
   },
   "id": "a1c3bc4de512f94f"
  },
  {
   "cell_type": "code",
   "execution_count": 29,
   "outputs": [],
   "source": [
    "new_X_data = hourly_dataframe.drop(columns=['weather_code', 'date'])"
   ],
   "metadata": {
    "collapsed": false,
    "ExecuteTime": {
     "end_time": "2024-01-23T20:53:44.717987Z",
     "start_time": "2024-01-23T20:53:44.700214Z"
    }
   },
   "id": "dca50a01ed6d1288"
  },
  {
   "cell_type": "code",
   "execution_count": 30,
   "outputs": [],
   "source": [
    "predictions = model.predict(new_X_data)"
   ],
   "metadata": {
    "collapsed": false,
    "ExecuteTime": {
     "end_time": "2024-01-23T20:53:44.718031Z",
     "start_time": "2024-01-23T20:53:44.703192Z"
    }
   },
   "id": "22d29424d9e95406"
  },
  {
   "cell_type": "code",
   "execution_count": 31,
   "outputs": [
    {
     "data": {
      "text/plain": "array([0, 3, 3, 3, 3, 3, 3, 3, 3, 3, 3, 3, 3, 3, 3, 3, 2, 3, 3, 3, 3, 2,\n       3, 3])"
     },
     "execution_count": 31,
     "metadata": {},
     "output_type": "execute_result"
    }
   ],
   "source": [
    "predictions"
   ],
   "metadata": {
    "collapsed": false,
    "ExecuteTime": {
     "end_time": "2024-01-23T20:53:44.718218Z",
     "start_time": "2024-01-23T20:53:44.707060Z"
    }
   },
   "id": "5749f429c93f5050"
  },
  {
   "cell_type": "markdown",
   "source": [
    "## Powyższy kod pokazuje, że predykcja pogody ( kodu pogody WMO ) jest bardzo poprawna i przy podanych danych można z 99% dokładnością przewidzieć pogodę."
   ],
   "metadata": {
    "collapsed": false
   },
   "id": "5289d40e341a66ba"
  },
  {
   "cell_type": "markdown",
   "source": [
    "# Przewidzenie temperatury"
   ],
   "metadata": {
    "collapsed": false
   },
   "id": "c230db25aeb6f507"
  },
  {
   "cell_type": "code",
   "execution_count": 32,
   "outputs": [
    {
     "data": {
      "text/plain": "                 date  temperature_2m  relative_humidity_2m  dew_point_2m  \\\n0 2014-01-21 23:00:00        -12.2455             77.992210      -15.2955   \n1 2014-01-22 00:00:00        -12.5955             78.906710      -15.4955   \n2 2014-01-22 01:00:00        -13.0955             79.482290      -15.8955   \n3 2014-01-22 02:00:00        -13.5955             79.402210      -16.3955   \n4 2014-01-22 03:00:00        -14.2455             79.965004      -16.9455   \n\n   apparent_temperature  precipitation  rain  snowfall  snow_depth  \\\n0            -17.457428            0.0   0.0       0.0        0.03   \n1            -17.818140            0.0   0.0       0.0        0.03   \n2            -18.356918            0.0   0.0       0.0        0.03   \n3            -18.782642            0.0   0.0       0.0        0.03   \n4            -19.325504            0.0   0.0       0.0        0.03   \n\n   weather_code  ...  wind_gusts_10m  soil_temperature_0_to_7cm  \\\n0           1.0  ...       20.880001                    -2.6955   \n1           1.0  ...       20.880001                    -2.7455   \n2           1.0  ...       20.519999                    -2.8955   \n3           1.0  ...       20.880001                    -2.9455   \n4           1.0  ...       20.880001                    -3.0955   \n\n   soil_temperature_7_to_28cm  soil_temperature_28_to_100cm  \\\n0                     -0.7955                        0.9045   \n1                     -0.7955                        0.9045   \n2                     -0.8455                        0.9045   \n3                     -0.8455                        0.8545   \n4                     -0.8455                        0.8545   \n\n   soil_temperature_100_to_255cm  soil_moisture_0_to_7cm  \\\n0                         3.1545                    0.37   \n1                         3.1545                    0.37   \n2                         3.1045                    0.37   \n3                         3.1045                    0.37   \n4                         3.1045                    0.37   \n\n   soil_moisture_7_to_28cm  soil_moisture_28_to_100cm  \\\n0                    0.377                      0.392   \n1                    0.377                      0.392   \n2                    0.377                      0.392   \n3                    0.377                      0.392   \n4                    0.376                      0.392   \n\n   soil_moisture_100_to_255cm  id  \n0                       0.376   1  \n1                       0.376   2  \n2                       0.376   3  \n3                       0.376   4  \n4                       0.376   5  \n\n[5 rows x 32 columns]",
      "text/html": "<div>\n<style scoped>\n    .dataframe tbody tr th:only-of-type {\n        vertical-align: middle;\n    }\n\n    .dataframe tbody tr th {\n        vertical-align: top;\n    }\n\n    .dataframe thead th {\n        text-align: right;\n    }\n</style>\n<table border=\"1\" class=\"dataframe\">\n  <thead>\n    <tr style=\"text-align: right;\">\n      <th></th>\n      <th>date</th>\n      <th>temperature_2m</th>\n      <th>relative_humidity_2m</th>\n      <th>dew_point_2m</th>\n      <th>apparent_temperature</th>\n      <th>precipitation</th>\n      <th>rain</th>\n      <th>snowfall</th>\n      <th>snow_depth</th>\n      <th>weather_code</th>\n      <th>...</th>\n      <th>wind_gusts_10m</th>\n      <th>soil_temperature_0_to_7cm</th>\n      <th>soil_temperature_7_to_28cm</th>\n      <th>soil_temperature_28_to_100cm</th>\n      <th>soil_temperature_100_to_255cm</th>\n      <th>soil_moisture_0_to_7cm</th>\n      <th>soil_moisture_7_to_28cm</th>\n      <th>soil_moisture_28_to_100cm</th>\n      <th>soil_moisture_100_to_255cm</th>\n      <th>id</th>\n    </tr>\n  </thead>\n  <tbody>\n    <tr>\n      <th>0</th>\n      <td>2014-01-21 23:00:00</td>\n      <td>-12.2455</td>\n      <td>77.992210</td>\n      <td>-15.2955</td>\n      <td>-17.457428</td>\n      <td>0.0</td>\n      <td>0.0</td>\n      <td>0.0</td>\n      <td>0.03</td>\n      <td>1.0</td>\n      <td>...</td>\n      <td>20.880001</td>\n      <td>-2.6955</td>\n      <td>-0.7955</td>\n      <td>0.9045</td>\n      <td>3.1545</td>\n      <td>0.37</td>\n      <td>0.377</td>\n      <td>0.392</td>\n      <td>0.376</td>\n      <td>1</td>\n    </tr>\n    <tr>\n      <th>1</th>\n      <td>2014-01-22 00:00:00</td>\n      <td>-12.5955</td>\n      <td>78.906710</td>\n      <td>-15.4955</td>\n      <td>-17.818140</td>\n      <td>0.0</td>\n      <td>0.0</td>\n      <td>0.0</td>\n      <td>0.03</td>\n      <td>1.0</td>\n      <td>...</td>\n      <td>20.880001</td>\n      <td>-2.7455</td>\n      <td>-0.7955</td>\n      <td>0.9045</td>\n      <td>3.1545</td>\n      <td>0.37</td>\n      <td>0.377</td>\n      <td>0.392</td>\n      <td>0.376</td>\n      <td>2</td>\n    </tr>\n    <tr>\n      <th>2</th>\n      <td>2014-01-22 01:00:00</td>\n      <td>-13.0955</td>\n      <td>79.482290</td>\n      <td>-15.8955</td>\n      <td>-18.356918</td>\n      <td>0.0</td>\n      <td>0.0</td>\n      <td>0.0</td>\n      <td>0.03</td>\n      <td>1.0</td>\n      <td>...</td>\n      <td>20.519999</td>\n      <td>-2.8955</td>\n      <td>-0.8455</td>\n      <td>0.9045</td>\n      <td>3.1045</td>\n      <td>0.37</td>\n      <td>0.377</td>\n      <td>0.392</td>\n      <td>0.376</td>\n      <td>3</td>\n    </tr>\n    <tr>\n      <th>3</th>\n      <td>2014-01-22 02:00:00</td>\n      <td>-13.5955</td>\n      <td>79.402210</td>\n      <td>-16.3955</td>\n      <td>-18.782642</td>\n      <td>0.0</td>\n      <td>0.0</td>\n      <td>0.0</td>\n      <td>0.03</td>\n      <td>1.0</td>\n      <td>...</td>\n      <td>20.880001</td>\n      <td>-2.9455</td>\n      <td>-0.8455</td>\n      <td>0.8545</td>\n      <td>3.1045</td>\n      <td>0.37</td>\n      <td>0.377</td>\n      <td>0.392</td>\n      <td>0.376</td>\n      <td>4</td>\n    </tr>\n    <tr>\n      <th>4</th>\n      <td>2014-01-22 03:00:00</td>\n      <td>-14.2455</td>\n      <td>79.965004</td>\n      <td>-16.9455</td>\n      <td>-19.325504</td>\n      <td>0.0</td>\n      <td>0.0</td>\n      <td>0.0</td>\n      <td>0.03</td>\n      <td>1.0</td>\n      <td>...</td>\n      <td>20.880001</td>\n      <td>-3.0955</td>\n      <td>-0.8455</td>\n      <td>0.8545</td>\n      <td>3.1045</td>\n      <td>0.37</td>\n      <td>0.376</td>\n      <td>0.392</td>\n      <td>0.376</td>\n      <td>5</td>\n    </tr>\n  </tbody>\n</table>\n<p>5 rows × 32 columns</p>\n</div>"
     },
     "execution_count": 32,
     "metadata": {},
     "output_type": "execute_result"
    }
   ],
   "source": [
    "from utils import get_data\n",
    "df = get_data()\n",
    "df.head()"
   ],
   "metadata": {
    "collapsed": false,
    "ExecuteTime": {
     "end_time": "2024-01-23T20:53:45.429502Z",
     "start_time": "2024-01-23T20:53:44.709098Z"
    }
   },
   "id": "eee0eaabf8a38be5"
  },
  {
   "cell_type": "code",
   "execution_count": 33,
   "outputs": [
    {
     "data": {
      "text/plain": "   relative_humidity_2m  dew_point_2m  apparent_temperature  precipitation  \\\n0             77.992210      -15.2955            -17.457428            0.0   \n1             78.906710      -15.4955            -17.818140            0.0   \n2             79.482290      -15.8955            -18.356918            0.0   \n3             79.402210      -16.3955            -18.782642            0.0   \n4             79.965004      -16.9455            -19.325504            0.0   \n\n   rain  snowfall  snow_depth  weather_code  pressure_msl  surface_pressure  \\\n0   0.0       0.0        0.03           1.0        1020.9        1004.48340   \n1   0.0       0.0        0.03           1.0        1020.7        1004.26447   \n2   0.0       0.0        0.03           1.0        1020.5        1004.03644   \n3   0.0       0.0        0.03           1.0        1020.8        1004.30040   \n4   0.0       0.0        0.03           1.0        1020.7        1004.16095   \n\n   ...  wind_direction_100m  wind_gusts_10m  soil_temperature_0_to_7cm  \\\n0  ...            78.690100       20.880001                    -2.6955   \n1  ...            76.464134       20.880001                    -2.7455   \n2  ...            74.475830       20.519999                    -2.8955   \n3  ...            79.508580       20.880001                    -2.9455   \n4  ...            79.114520       20.880001                    -3.0955   \n\n   soil_temperature_7_to_28cm  soil_temperature_28_to_100cm  \\\n0                     -0.7955                        0.9045   \n1                     -0.7955                        0.9045   \n2                     -0.8455                        0.9045   \n3                     -0.8455                        0.8545   \n4                     -0.8455                        0.8545   \n\n   soil_temperature_100_to_255cm  soil_moisture_0_to_7cm  \\\n0                         3.1545                    0.37   \n1                         3.1545                    0.37   \n2                         3.1045                    0.37   \n3                         3.1045                    0.37   \n4                         3.1045                    0.37   \n\n   soil_moisture_7_to_28cm  soil_moisture_28_to_100cm  \\\n0                    0.377                      0.392   \n1                    0.377                      0.392   \n2                    0.377                      0.392   \n3                    0.377                      0.392   \n4                    0.376                      0.392   \n\n   soil_moisture_100_to_255cm  \n0                       0.376  \n1                       0.376  \n2                       0.376  \n3                       0.376  \n4                       0.376  \n\n[5 rows x 29 columns]",
      "text/html": "<div>\n<style scoped>\n    .dataframe tbody tr th:only-of-type {\n        vertical-align: middle;\n    }\n\n    .dataframe tbody tr th {\n        vertical-align: top;\n    }\n\n    .dataframe thead th {\n        text-align: right;\n    }\n</style>\n<table border=\"1\" class=\"dataframe\">\n  <thead>\n    <tr style=\"text-align: right;\">\n      <th></th>\n      <th>relative_humidity_2m</th>\n      <th>dew_point_2m</th>\n      <th>apparent_temperature</th>\n      <th>precipitation</th>\n      <th>rain</th>\n      <th>snowfall</th>\n      <th>snow_depth</th>\n      <th>weather_code</th>\n      <th>pressure_msl</th>\n      <th>surface_pressure</th>\n      <th>...</th>\n      <th>wind_direction_100m</th>\n      <th>wind_gusts_10m</th>\n      <th>soil_temperature_0_to_7cm</th>\n      <th>soil_temperature_7_to_28cm</th>\n      <th>soil_temperature_28_to_100cm</th>\n      <th>soil_temperature_100_to_255cm</th>\n      <th>soil_moisture_0_to_7cm</th>\n      <th>soil_moisture_7_to_28cm</th>\n      <th>soil_moisture_28_to_100cm</th>\n      <th>soil_moisture_100_to_255cm</th>\n    </tr>\n  </thead>\n  <tbody>\n    <tr>\n      <th>0</th>\n      <td>77.992210</td>\n      <td>-15.2955</td>\n      <td>-17.457428</td>\n      <td>0.0</td>\n      <td>0.0</td>\n      <td>0.0</td>\n      <td>0.03</td>\n      <td>1.0</td>\n      <td>1020.9</td>\n      <td>1004.48340</td>\n      <td>...</td>\n      <td>78.690100</td>\n      <td>20.880001</td>\n      <td>-2.6955</td>\n      <td>-0.7955</td>\n      <td>0.9045</td>\n      <td>3.1545</td>\n      <td>0.37</td>\n      <td>0.377</td>\n      <td>0.392</td>\n      <td>0.376</td>\n    </tr>\n    <tr>\n      <th>1</th>\n      <td>78.906710</td>\n      <td>-15.4955</td>\n      <td>-17.818140</td>\n      <td>0.0</td>\n      <td>0.0</td>\n      <td>0.0</td>\n      <td>0.03</td>\n      <td>1.0</td>\n      <td>1020.7</td>\n      <td>1004.26447</td>\n      <td>...</td>\n      <td>76.464134</td>\n      <td>20.880001</td>\n      <td>-2.7455</td>\n      <td>-0.7955</td>\n      <td>0.9045</td>\n      <td>3.1545</td>\n      <td>0.37</td>\n      <td>0.377</td>\n      <td>0.392</td>\n      <td>0.376</td>\n    </tr>\n    <tr>\n      <th>2</th>\n      <td>79.482290</td>\n      <td>-15.8955</td>\n      <td>-18.356918</td>\n      <td>0.0</td>\n      <td>0.0</td>\n      <td>0.0</td>\n      <td>0.03</td>\n      <td>1.0</td>\n      <td>1020.5</td>\n      <td>1004.03644</td>\n      <td>...</td>\n      <td>74.475830</td>\n      <td>20.519999</td>\n      <td>-2.8955</td>\n      <td>-0.8455</td>\n      <td>0.9045</td>\n      <td>3.1045</td>\n      <td>0.37</td>\n      <td>0.377</td>\n      <td>0.392</td>\n      <td>0.376</td>\n    </tr>\n    <tr>\n      <th>3</th>\n      <td>79.402210</td>\n      <td>-16.3955</td>\n      <td>-18.782642</td>\n      <td>0.0</td>\n      <td>0.0</td>\n      <td>0.0</td>\n      <td>0.03</td>\n      <td>1.0</td>\n      <td>1020.8</td>\n      <td>1004.30040</td>\n      <td>...</td>\n      <td>79.508580</td>\n      <td>20.880001</td>\n      <td>-2.9455</td>\n      <td>-0.8455</td>\n      <td>0.8545</td>\n      <td>3.1045</td>\n      <td>0.37</td>\n      <td>0.377</td>\n      <td>0.392</td>\n      <td>0.376</td>\n    </tr>\n    <tr>\n      <th>4</th>\n      <td>79.965004</td>\n      <td>-16.9455</td>\n      <td>-19.325504</td>\n      <td>0.0</td>\n      <td>0.0</td>\n      <td>0.0</td>\n      <td>0.03</td>\n      <td>1.0</td>\n      <td>1020.7</td>\n      <td>1004.16095</td>\n      <td>...</td>\n      <td>79.114520</td>\n      <td>20.880001</td>\n      <td>-3.0955</td>\n      <td>-0.8455</td>\n      <td>0.8545</td>\n      <td>3.1045</td>\n      <td>0.37</td>\n      <td>0.376</td>\n      <td>0.392</td>\n      <td>0.376</td>\n    </tr>\n  </tbody>\n</table>\n<p>5 rows × 29 columns</p>\n</div>"
     },
     "execution_count": 33,
     "metadata": {},
     "output_type": "execute_result"
    }
   ],
   "source": [
    "X = df.drop(columns=['date','id', 'temperature_2m'])\n",
    "X.head()"
   ],
   "metadata": {
    "collapsed": false,
    "ExecuteTime": {
     "end_time": "2024-01-23T20:53:45.436437Z",
     "start_time": "2024-01-23T20:53:45.424755Z"
    }
   },
   "id": "e52f6ca583499556"
  },
  {
   "cell_type": "code",
   "execution_count": 34,
   "outputs": [
    {
     "data": {
      "text/plain": "0   -12.2455\n1   -12.5955\n2   -13.0955\n3   -13.5955\n4   -14.2455\nName: temperature_2m, dtype: float64"
     },
     "execution_count": 34,
     "metadata": {},
     "output_type": "execute_result"
    }
   ],
   "source": [
    "y = df['temperature_2m']\n",
    "y.head()"
   ],
   "metadata": {
    "collapsed": false,
    "ExecuteTime": {
     "end_time": "2024-01-23T20:53:45.439023Z",
     "start_time": "2024-01-23T20:53:45.435391Z"
    }
   },
   "id": "287db066297447"
  },
  {
   "cell_type": "markdown",
   "source": [
    "Z racji, że wartości temperatury są ciągle a nie dyskretne, trzeba użyć modelu regresji liniowej."
   ],
   "metadata": {
    "collapsed": false
   },
   "id": "2067749b808fee55"
  },
  {
   "cell_type": "code",
   "execution_count": 35,
   "outputs": [
    {
     "name": "stdout",
     "output_type": "stream",
     "text": [
      "Accuracy: 0.9999376870512627\n"
     ]
    }
   ],
   "source": [
    "from sklearn.model_selection import train_test_split\n",
    "from sklearn.linear_model import LinearRegression\n",
    "\n",
    "model = LinearRegression()\n",
    "\n",
    "X_train, X_test, y_train, y_test = train_test_split(X, y, test_size=0.3, random_state=42)\n",
    "\n",
    "model.fit(X_train, y_train)\n",
    "accuracy = model.score(X_test, y_test)\n",
    "print(f\"Accuracy: {accuracy}\")"
   ],
   "metadata": {
    "collapsed": false,
    "ExecuteTime": {
     "end_time": "2024-01-23T20:53:45.620152Z",
     "start_time": "2024-01-23T20:53:45.439099Z"
    }
   },
   "id": "e239d8d844328042"
  },
  {
   "cell_type": "code",
   "execution_count": 35,
   "outputs": [],
   "source": [],
   "metadata": {
    "collapsed": false,
    "ExecuteTime": {
     "end_time": "2024-01-23T20:53:45.620574Z",
     "start_time": "2024-01-23T20:53:45.612393Z"
    }
   },
   "id": "9f19935b4d4c43e9"
  }
 ],
 "metadata": {
  "kernelspec": {
   "display_name": "Python 3",
   "language": "python",
   "name": "python3"
  },
  "language_info": {
   "codemirror_mode": {
    "name": "ipython",
    "version": 2
   },
   "file_extension": ".py",
   "mimetype": "text/x-python",
   "name": "python",
   "nbconvert_exporter": "python",
   "pygments_lexer": "ipython2",
   "version": "2.7.6"
  }
 },
 "nbformat": 4,
 "nbformat_minor": 5
}
