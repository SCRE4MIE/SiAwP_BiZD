{
 "cells": [
  {
   "cell_type": "markdown",
   "source": [
    "# Statystyka cw 1\n",
    "## Mateusz Baran\n",
    "### 155620"
   ],
   "metadata": {
    "collapsed": false
   },
   "id": "785a4e31db90b410"
  },
  {
   "cell_type": "code",
   "execution_count": 199,
   "outputs": [],
   "source": [
    "import numpy as np\n",
    "import pandas as pd\n",
    "import scipy.stats as sc_st\n",
    "from scipy.stats import scoreatpercentile\n",
    "import statistics as stat"
   ],
   "metadata": {
    "collapsed": false,
    "ExecuteTime": {
     "end_time": "2023-12-05T09:00:50.056589Z",
     "start_time": "2023-12-05T09:00:50.044627Z"
    }
   },
   "id": "5abdffc1a39a1132"
  },
  {
   "cell_type": "markdown",
   "source": [
    "## Cw 1"
   ],
   "metadata": {
    "collapsed": false
   },
   "id": "595cc8f2c3358261"
  },
  {
   "cell_type": "code",
   "execution_count": 200,
   "outputs": [
    {
     "data": {
      "text/plain": "       country iso2 iso3  iso_numeric g_whoregion  year source_rr_new  \\\n0  Afghanistan   AF  AFG            4         EMR  2015         Model   \n1  Afghanistan   AF  AFG            4         EMR  2016         Model   \n2  Afghanistan   AF  AFG            4         EMR  2017         Model   \n3  Afghanistan   AF  AFG            4         EMR  2018         Model   \n4  Afghanistan   AF  AFG            4         EMR  2019         Model   \n\n   e_rr_pct_new  e_rr_pct_new_lo  e_rr_pct_new_hi source_rr_ret  e_rr_pct_ret  \\\n0           4.8             0.42             19.0  Surveillance           6.0   \n1           4.7             0.45             17.0  Surveillance           8.1   \n2           4.6             0.48             17.0  Surveillance          11.0   \n3           4.5             0.51             17.0  Surveillance          14.0   \n4           4.4             0.53             17.0  Surveillance          19.0   \n\n   e_rr_pct_ret_lo  e_rr_pct_ret_hi  e_inc_rr_num  e_inc_rr_num_lo  \\\n0              4.1              8.3          3400                0   \n1              6.1             10.0          3400                0   \n2              9.0             13.0          3400                0   \n3             13.0             16.0          3500                0   \n4             17.0             20.0          3500                0   \n\n   e_inc_rr_num_hi  e_rr_in_notified_labconf_pulm  \\\n0             9800                          800.0   \n1             9500                          880.0   \n2             9500                         1100.0   \n3             9800                         1200.0   \n4             9900                         1200.0   \n\n   e_rr_in_notified_labconf_pulm_lo  e_rr_in_notified_labconf_pulm_hi  \n0                              70.0                            3100.0  \n1                               0.0                            2400.0  \n2                               0.0                            2700.0  \n3                               0.0                            2900.0  \n4                               0.0                            3200.0  ",
      "text/html": "<div>\n<style scoped>\n    .dataframe tbody tr th:only-of-type {\n        vertical-align: middle;\n    }\n\n    .dataframe tbody tr th {\n        vertical-align: top;\n    }\n\n    .dataframe thead th {\n        text-align: right;\n    }\n</style>\n<table border=\"1\" class=\"dataframe\">\n  <thead>\n    <tr style=\"text-align: right;\">\n      <th></th>\n      <th>country</th>\n      <th>iso2</th>\n      <th>iso3</th>\n      <th>iso_numeric</th>\n      <th>g_whoregion</th>\n      <th>year</th>\n      <th>source_rr_new</th>\n      <th>e_rr_pct_new</th>\n      <th>e_rr_pct_new_lo</th>\n      <th>e_rr_pct_new_hi</th>\n      <th>source_rr_ret</th>\n      <th>e_rr_pct_ret</th>\n      <th>e_rr_pct_ret_lo</th>\n      <th>e_rr_pct_ret_hi</th>\n      <th>e_inc_rr_num</th>\n      <th>e_inc_rr_num_lo</th>\n      <th>e_inc_rr_num_hi</th>\n      <th>e_rr_in_notified_labconf_pulm</th>\n      <th>e_rr_in_notified_labconf_pulm_lo</th>\n      <th>e_rr_in_notified_labconf_pulm_hi</th>\n    </tr>\n  </thead>\n  <tbody>\n    <tr>\n      <th>0</th>\n      <td>Afghanistan</td>\n      <td>AF</td>\n      <td>AFG</td>\n      <td>4</td>\n      <td>EMR</td>\n      <td>2015</td>\n      <td>Model</td>\n      <td>4.8</td>\n      <td>0.42</td>\n      <td>19.0</td>\n      <td>Surveillance</td>\n      <td>6.0</td>\n      <td>4.1</td>\n      <td>8.3</td>\n      <td>3400</td>\n      <td>0</td>\n      <td>9800</td>\n      <td>800.0</td>\n      <td>70.0</td>\n      <td>3100.0</td>\n    </tr>\n    <tr>\n      <th>1</th>\n      <td>Afghanistan</td>\n      <td>AF</td>\n      <td>AFG</td>\n      <td>4</td>\n      <td>EMR</td>\n      <td>2016</td>\n      <td>Model</td>\n      <td>4.7</td>\n      <td>0.45</td>\n      <td>17.0</td>\n      <td>Surveillance</td>\n      <td>8.1</td>\n      <td>6.1</td>\n      <td>10.0</td>\n      <td>3400</td>\n      <td>0</td>\n      <td>9500</td>\n      <td>880.0</td>\n      <td>0.0</td>\n      <td>2400.0</td>\n    </tr>\n    <tr>\n      <th>2</th>\n      <td>Afghanistan</td>\n      <td>AF</td>\n      <td>AFG</td>\n      <td>4</td>\n      <td>EMR</td>\n      <td>2017</td>\n      <td>Model</td>\n      <td>4.6</td>\n      <td>0.48</td>\n      <td>17.0</td>\n      <td>Surveillance</td>\n      <td>11.0</td>\n      <td>9.0</td>\n      <td>13.0</td>\n      <td>3400</td>\n      <td>0</td>\n      <td>9500</td>\n      <td>1100.0</td>\n      <td>0.0</td>\n      <td>2700.0</td>\n    </tr>\n    <tr>\n      <th>3</th>\n      <td>Afghanistan</td>\n      <td>AF</td>\n      <td>AFG</td>\n      <td>4</td>\n      <td>EMR</td>\n      <td>2018</td>\n      <td>Model</td>\n      <td>4.5</td>\n      <td>0.51</td>\n      <td>17.0</td>\n      <td>Surveillance</td>\n      <td>14.0</td>\n      <td>13.0</td>\n      <td>16.0</td>\n      <td>3500</td>\n      <td>0</td>\n      <td>9800</td>\n      <td>1200.0</td>\n      <td>0.0</td>\n      <td>2900.0</td>\n    </tr>\n    <tr>\n      <th>4</th>\n      <td>Afghanistan</td>\n      <td>AF</td>\n      <td>AFG</td>\n      <td>4</td>\n      <td>EMR</td>\n      <td>2019</td>\n      <td>Model</td>\n      <td>4.4</td>\n      <td>0.53</td>\n      <td>17.0</td>\n      <td>Surveillance</td>\n      <td>19.0</td>\n      <td>17.0</td>\n      <td>20.0</td>\n      <td>3500</td>\n      <td>0</td>\n      <td>9900</td>\n      <td>1200.0</td>\n      <td>0.0</td>\n      <td>3200.0</td>\n    </tr>\n  </tbody>\n</table>\n</div>"
     },
     "execution_count": 200,
     "metadata": {},
     "output_type": "execute_result"
    }
   ],
   "source": [
    "df = pd.read_csv('MDR_RR_TB_burden_estimates_2023-12-05.csv')\n",
    "df.head()"
   ],
   "metadata": {
    "collapsed": false,
    "ExecuteTime": {
     "end_time": "2023-12-05T09:00:50.088109Z",
     "start_time": "2023-12-05T09:00:50.048798Z"
    }
   },
   "id": "bd801dffe7b45d9f"
  },
  {
   "cell_type": "markdown",
   "source": [
    "### Podstawowe statystyki:"
   ],
   "metadata": {
    "collapsed": false
   },
   "id": "43ff54344696b4fb"
  },
  {
   "cell_type": "code",
   "execution_count": 201,
   "outputs": [
    {
     "name": "stdout",
     "output_type": "stream",
     "text": [
      "Maksymalny wzrost: 52000.0\n",
      "Maksymalny wzrost, funkcja: 52000.0\n",
      "Minimalny wzrost: 0.0\n",
      "Minimalny wzrost, funkcja: 0.0\n",
      "Średni wzrost: 827.9569120287254\n",
      "Średni wzrost, funkcja: 827.9569120287254\n",
      "Odchylenie standardowe, wzrost: 3896.5725578925644\n",
      "Odchylenie standardowe, wzrost, funkcja: 3896.5725578925644\n",
      "Mediana: 32.0\n",
      "Wartość na 50 procencie: 32.0\n",
      "Górna granicy mediany: 32.0\n",
      "Dolna granica mediany: 32.0\n",
      "Wartość najczęściej występująca: 0.0\n",
      "Wariancja: 15192369.48197465\n",
      "Odchylenie standardowe: 3897.739021788741\n",
      "Miara konsternacji: 89.44980001212767\n",
      "Skośność rozkładu: 8.768374890825216\n",
      "Podstawowe statystyki rozkładu z modułu scipy.stat: DescribeResult(nobs=1671, minmax=(0.0, 52000.0), mean=827.9569120287254, variance=15192369.481974648, skewness=8.768374890825216, kurtosis=89.44980001212767)\n"
     ]
    }
   ],
   "source": [
    "data = df['e_rr_in_notified_labconf_pulm'].dropna().to_numpy()\n",
    "print('Maksymalny wzrost:', data.max())\n",
    "print('Maksymalny wzrost, funkcja:', np.max(data))\n",
    "print('Minimalny wzrost:', data.min())\n",
    "print('Minimalny wzrost, funkcja:', np.min(data))\n",
    "print('Średni wzrost:', data.mean())\n",
    "print('Średni wzrost, funkcja:', np.mean(data))\n",
    "print('Odchylenie standardowe, wzrost:', data.std())\n",
    "print('Odchylenie standardowe, wzrost, funkcja:', np.std(data))\n",
    "print('Mediana:', np.median(data))\n",
    "print('Wartość na 50 procencie:', scoreatpercentile(data, 50))\n",
    "print('Górna granicy mediany:', stat.median_high(data))\n",
    "print('Dolna granica mediany:', stat.median_low(data))\n",
    "print('Wartość najczęściej występująca:', stat.mode(data))\n",
    "print('Wariancja:', stat.variance(data))\n",
    "print('Odchylenie standardowe:', stat.stdev(data))\n",
    "print('Miara konsternacji:', sc_st.kurtosis(data))\n",
    "print('Skośność rozkładu:', sc_st.skew(data))\n",
    "print('Podstawowe statystyki rozkładu z modułu scipy.stat:', sc_st.describe(data))"
   ],
   "metadata": {
    "collapsed": false,
    "ExecuteTime": {
     "end_time": "2023-12-05T09:00:50.088536Z",
     "start_time": "2023-12-05T09:00:50.065028Z"
    }
   },
   "id": "c0f2cfcbcac7df05"
  },
  {
   "cell_type": "markdown",
   "source": [
    "## Cw 2"
   ],
   "metadata": {
    "collapsed": false
   },
   "id": "3749e3b1533d2332"
  },
  {
   "cell_type": "code",
   "execution_count": 202,
   "outputs": [
    {
     "data": {
      "text/plain": "array([156., 158., 167., 188., 197., 167., 197., 178., 186., 157., 198.,\n       199., 178., 168., 156., 151., 167., 167.])"
     },
     "execution_count": 202,
     "metadata": {},
     "output_type": "execute_result"
    }
   ],
   "source": [
    "data = np.loadtxt('Wzrost.csv', delimiter=',', skiprows=0, unpack=True)\n",
    "data"
   ],
   "metadata": {
    "collapsed": false,
    "ExecuteTime": {
     "end_time": "2023-12-05T09:00:50.088692Z",
     "start_time": "2023-12-05T09:00:50.077032Z"
    }
   },
   "id": "f05aca38d2eb5821"
  },
  {
   "cell_type": "code",
   "execution_count": 203,
   "outputs": [
    {
     "name": "stdout",
     "output_type": "stream",
     "text": [
      "Statistic module Python\n",
      "Górna granicy mediany: 168.0\n",
      "Dolna granica mediany: 167.0\n",
      "Wartość najczęściej występująca: 167.0\n",
      "Wariancja variance: 269.6764705882353\n",
      "Wariancja pvariance: 254.69444444444446\n",
      "Odchylenie standardowe stdev: 16.42182908777933\n",
      "Odchylenie standardowe pstdev: 15.95914923936876\n",
      "Numpy:\n",
      "Wariancja numpy: 254.69444444444449\n",
      "Odchylenie standardowe: 15.959149239368761\n"
     ]
    }
   ],
   "source": [
    "print('Statistic module Python')\n",
    "print('Górna granicy mediany:', stat.median_high(data))\n",
    "print('Dolna granica mediany:', stat.median_low(data))\n",
    "print('Wartość najczęściej występująca:', stat.mode(data))\n",
    "print('Wariancja variance:', stat.variance(data))\n",
    "print('Wariancja pvariance:', stat.pvariance(data))\n",
    "print('Odchylenie standardowe stdev:', stat.stdev(data))\n",
    "print('Odchylenie standardowe pstdev:', stat.pstdev(data))\n",
    "print('Numpy:')\n",
    "print('Wariancja numpy:', np.var(data))\n",
    "print('Odchylenie standardowe:', np.std(data))"
   ],
   "metadata": {
    "collapsed": false,
    "ExecuteTime": {
     "end_time": "2023-12-05T09:00:50.089114Z",
     "start_time": "2023-12-05T09:00:50.083588Z"
    }
   },
   "id": "6ea178231d8a41c4"
  },
  {
   "cell_type": "markdown",
   "source": [
    "#### Odchylenie standardowe oraz wariancja różnią się wartościami w funckjach: stdev i variance. W Numpy są one mniejsze. Dopiero użycie pstdev i pvariance jest takie samo jak w Numpy. Spowodowane jest to tym, że stdev używa n-1 a pstdev tak jak numpy używa n"
   ],
   "metadata": {
    "collapsed": false
   },
   "id": "3413e26595921211"
  },
  {
   "cell_type": "markdown",
   "source": [
    "## Cw 3"
   ],
   "metadata": {
    "collapsed": false
   },
   "id": "108af904c2d16a94"
  },
  {
   "cell_type": "code",
   "execution_count": 204,
   "outputs": [
    {
     "data": {
      "text/plain": "  date_time_abbreviation  temperature_2m (°C)\n0       2023-12-05T00:00                 -3.0\n1       2023-12-05T01:00                 -3.1\n2       2023-12-05T02:00                 -2.9\n3       2023-12-05T03:00                 -2.8\n4       2023-12-05T04:00                 -2.8",
      "text/html": "<div>\n<style scoped>\n    .dataframe tbody tr th:only-of-type {\n        vertical-align: middle;\n    }\n\n    .dataframe tbody tr th {\n        vertical-align: top;\n    }\n\n    .dataframe thead th {\n        text-align: right;\n    }\n</style>\n<table border=\"1\" class=\"dataframe\">\n  <thead>\n    <tr style=\"text-align: right;\">\n      <th></th>\n      <th>date_time_abbreviation</th>\n      <th>temperature_2m (°C)</th>\n    </tr>\n  </thead>\n  <tbody>\n    <tr>\n      <th>0</th>\n      <td>2023-12-05T00:00</td>\n      <td>-3.0</td>\n    </tr>\n    <tr>\n      <th>1</th>\n      <td>2023-12-05T01:00</td>\n      <td>-3.1</td>\n    </tr>\n    <tr>\n      <th>2</th>\n      <td>2023-12-05T02:00</td>\n      <td>-2.9</td>\n    </tr>\n    <tr>\n      <th>3</th>\n      <td>2023-12-05T03:00</td>\n      <td>-2.8</td>\n    </tr>\n    <tr>\n      <th>4</th>\n      <td>2023-12-05T04:00</td>\n      <td>-2.8</td>\n    </tr>\n  </tbody>\n</table>\n</div>"
     },
     "execution_count": 204,
     "metadata": {},
     "output_type": "execute_result"
    }
   ],
   "source": [
    "data_meteo = pd.read_csv('open-meteo-52.52N13.42E38m.csv')\n",
    "data_meteo['temperature_2m (°C)'] = data_meteo['temperature_2m (°C)'].astype(float)\n",
    "data_meteo.head()"
   ],
   "metadata": {
    "collapsed": false,
    "ExecuteTime": {
     "end_time": "2023-12-05T09:00:50.097469Z",
     "start_time": "2023-12-05T09:00:50.086341Z"
    }
   },
   "id": "a35a3eb19ef132d1"
  },
  {
   "cell_type": "code",
   "execution_count": 205,
   "outputs": [
    {
     "data": {
      "text/plain": "       temperature_2m (°C)\ncount           168.000000\nmean              1.900000\nstd               3.309721\nmin              -3.100000\n25%              -0.025000\n50%               0.300000\n75%               3.800000\nmax               9.700000",
      "text/html": "<div>\n<style scoped>\n    .dataframe tbody tr th:only-of-type {\n        vertical-align: middle;\n    }\n\n    .dataframe tbody tr th {\n        vertical-align: top;\n    }\n\n    .dataframe thead th {\n        text-align: right;\n    }\n</style>\n<table border=\"1\" class=\"dataframe\">\n  <thead>\n    <tr style=\"text-align: right;\">\n      <th></th>\n      <th>temperature_2m (°C)</th>\n    </tr>\n  </thead>\n  <tbody>\n    <tr>\n      <th>count</th>\n      <td>168.000000</td>\n    </tr>\n    <tr>\n      <th>mean</th>\n      <td>1.900000</td>\n    </tr>\n    <tr>\n      <th>std</th>\n      <td>3.309721</td>\n    </tr>\n    <tr>\n      <th>min</th>\n      <td>-3.100000</td>\n    </tr>\n    <tr>\n      <th>25%</th>\n      <td>-0.025000</td>\n    </tr>\n    <tr>\n      <th>50%</th>\n      <td>0.300000</td>\n    </tr>\n    <tr>\n      <th>75%</th>\n      <td>3.800000</td>\n    </tr>\n    <tr>\n      <th>max</th>\n      <td>9.700000</td>\n    </tr>\n  </tbody>\n</table>\n</div>"
     },
     "execution_count": 205,
     "metadata": {},
     "output_type": "execute_result"
    }
   ],
   "source": [
    "data_meteo.describe()"
   ],
   "metadata": {
    "collapsed": false,
    "ExecuteTime": {
     "end_time": "2023-12-05T09:00:50.101645Z",
     "start_time": "2023-12-05T09:00:50.093960Z"
    }
   },
   "id": "79ffae7c5d3eef81"
  },
  {
   "cell_type": "code",
   "execution_count": 206,
   "outputs": [
    {
     "name": "stdout",
     "output_type": "stream",
     "text": [
      "Miara konsternacji: -0.26137194547078657\n",
      "Skośność rozkładu: 0.969351078220949\n",
      "Podstawowe statystyki rozkładu z modułu scipy.stat: DescribeResult(nobs=168, minmax=(-3.1, 9.7), mean=1.9, variance=10.954251497005984, skewness=0.969351078220949, kurtosis=-0.26137194547078657)\n"
     ]
    }
   ],
   "source": [
    "data = data_meteo['temperature_2m (°C)']\n",
    "print('Miara konsternacji:', sc_st.kurtosis(data))\n",
    "print('Skośność rozkładu:', sc_st.skew(data))\n",
    "print('Podstawowe statystyki rozkładu z modułu scipy.stat:', sc_st.describe(data))"
   ],
   "metadata": {
    "collapsed": false,
    "ExecuteTime": {
     "end_time": "2023-12-05T09:00:50.109087Z",
     "start_time": "2023-12-05T09:00:50.099884Z"
    }
   },
   "id": "bef66ba68a7da97"
  },
  {
   "cell_type": "code",
   "execution_count": 206,
   "outputs": [],
   "source": [],
   "metadata": {
    "collapsed": false,
    "ExecuteTime": {
     "end_time": "2023-12-05T09:00:50.109347Z",
     "start_time": "2023-12-05T09:00:50.103523Z"
    }
   },
   "id": "136669369f6dd9f7"
  }
 ],
 "metadata": {
  "kernelspec": {
   "display_name": "Python 3",
   "language": "python",
   "name": "python3"
  },
  "language_info": {
   "codemirror_mode": {
    "name": "ipython",
    "version": 2
   },
   "file_extension": ".py",
   "mimetype": "text/x-python",
   "name": "python",
   "nbconvert_exporter": "python",
   "pygments_lexer": "ipython2",
   "version": "2.7.6"
  }
 },
 "nbformat": 4,
 "nbformat_minor": 5
}
