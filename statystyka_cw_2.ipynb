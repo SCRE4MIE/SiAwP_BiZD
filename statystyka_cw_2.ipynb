{
 "cells": [
  {
   "cell_type": "markdown",
   "source": [
    "# Statystyka cw 1\n",
    "## Mateusz Baran\n",
    "### 155620"
   ],
   "metadata": {
    "collapsed": false
   },
   "id": "a2cf3d0ff7447ea8"
  },
  {
   "cell_type": "code",
   "execution_count": 38,
   "outputs": [],
   "source": [
    "import numpy as np\n",
    "import math\n",
    "import pandas as pd\n",
    "import scipy.stats as scs\n",
    "from scipy.stats import scoreatpercentile\n",
    "import statistics as stat\n",
    "import matplotlib.pyplot as plt"
   ],
   "metadata": {
    "collapsed": false,
    "ExecuteTime": {
     "end_time": "2024-01-09T07:36:58.211986Z",
     "start_time": "2024-01-09T07:36:58.190541Z"
    }
   },
   "id": "b519db5a39ce377d"
  },
  {
   "cell_type": "markdown",
   "source": [
    "## Cw 1"
   ],
   "metadata": {
    "collapsed": false
   },
   "id": "4704330264d67a34"
  },
  {
   "cell_type": "code",
   "execution_count": 39,
   "outputs": [
    {
     "name": "stdout",
     "output_type": "stream",
     "text": [
      "Wartości: [1 2 3 4 5 6]\n",
      "Prawdopodobieństwo: [0.16666667 0.16666667 0.16666667 0.16666667 0.16666667 0.16666667]\n",
      "Wartość oczekiwana: 3.5\n",
      "Wariancja: 2.916666666666666\n",
      "Odchylenie standardowe: 1.707825127659933\n"
     ]
    }
   ],
   "source": [
    "value = np.array([x for x in range(1,7)])\n",
    "p = 1/6\n",
    "p_values = np.array([p for i in range(len(value))])\n",
    "\n",
    "expectation_value = np.sum(value * p_values)\n",
    "ex2 = np.sum((value ** 2) * p_values)\n",
    "variance = ex2 - expectation_value ** 2\n",
    "standard_deviation = math.sqrt(variance)\n",
    "\n",
    "print('Wartości:', value)\n",
    "print('Prawdopodobieństwo:', p_values)\n",
    "print('Wartość oczekiwana:', expectation_value)\n",
    "print('Wariancja:', variance)\n",
    "print('Odchylenie standardowe:', standard_deviation)"
   ],
   "metadata": {
    "collapsed": false,
    "ExecuteTime": {
     "end_time": "2024-01-09T07:36:58.213940Z",
     "start_time": "2024-01-09T07:36:58.197882Z"
    }
   },
   "id": "ce9e94ab133dd378"
  },
  {
   "cell_type": "markdown",
   "source": [
    "## Cw 2,3,4"
   ],
   "metadata": {
    "collapsed": false
   },
   "id": "c280c40f1946de8"
  },
  {
   "cell_type": "markdown",
   "source": [
    "#### Rozkład Bernoulliego"
   ],
   "metadata": {
    "collapsed": false
   },
   "id": "fd6b88f5481e4782"
  },
  {
   "cell_type": "code",
   "execution_count": 40,
   "outputs": [
    {
     "name": "stdout",
     "output_type": "stream",
     "text": [
      "średnia: 0.16666666666666666\n",
      "wariancja: 0.1388888888888889\n",
      "skośność: 1.7888543819998317\n",
      "kurtoza: 1.1999999999999993\n"
     ]
    }
   ],
   "source": [
    "size=100\n",
    "data_bernoulii = scs.bernoulli.rvs(p, size=size)\n",
    "mean, var, skew, kurt = scs.bernoulli.stats(p, moments = 'mvsk')\n",
    "print(f'średnia: {mean}')\n",
    "print(f'wariancja: {var}')\n",
    "print(f'skośność: {skew}')\n",
    "print(f'kurtoza: {kurt}')\n"
   ],
   "metadata": {
    "collapsed": false,
    "ExecuteTime": {
     "end_time": "2024-01-09T07:36:58.246058Z",
     "start_time": "2024-01-09T07:36:58.204117Z"
    }
   },
   "id": "719f2e9733eac8fc"
  },
  {
   "cell_type": "markdown",
   "source": [
    "#### Rozkład Dwumianowy"
   ],
   "metadata": {
    "collapsed": false
   },
   "id": "6900ad7b052a2053"
  },
  {
   "cell_type": "code",
   "execution_count": 41,
   "outputs": [
    {
     "name": "stdout",
     "output_type": "stream",
     "text": [
      "średnia: 1.6666666666666665\n",
      "wariancja: 1.3888888888888888\n",
      "skośność: 0.565685424949238\n",
      "kurtoza: 0.11999999999999998\n"
     ]
    }
   ],
   "source": [
    "data_binom = np.random.binomial(n=10, p=p, size=size)\n",
    "mean, var, skew, kurt = scs.binom.stats(10, p, moments='mvsk')\n",
    "print(f'średnia: {mean}')\n",
    "print(f'wariancja: {var}')\n",
    "print(f'skośność: {skew}')\n",
    "print(f'kurtoza: {kurt}')"
   ],
   "metadata": {
    "collapsed": false,
    "ExecuteTime": {
     "end_time": "2024-01-09T07:36:58.246913Z",
     "start_time": "2024-01-09T07:36:58.210340Z"
    }
   },
   "id": "6c31b9b5a6800d0c"
  },
  {
   "cell_type": "markdown",
   "source": [
    "#### Rozkład Poissona"
   ],
   "metadata": {
    "collapsed": false
   },
   "id": "668a2218b19ee880"
  },
  {
   "cell_type": "code",
   "execution_count": 42,
   "outputs": [
    {
     "name": "stdout",
     "output_type": "stream",
     "text": [
      "Średnia: 2.0\n",
      "Wariancja: 2.0\n",
      "Skośność: 0.7071067811865476\n",
      "Kurtoza: 0.5\n"
     ]
    }
   ],
   "source": [
    "lambda_= 2\n",
    "data_poisson = np.random.poisson(lambda_, size=100)\n",
    "mean, var, skew, kurt = scs.poisson.stats(lambda_, moments='mvsk')\n",
    "\n",
    "print(f\"Średnia: {mean}\")\n",
    "print(f\"Wariancja: {var}\")\n",
    "print(f\"Skośność: {skew}\")\n",
    "print(f\"Kurtoza: {kurt}\")"
   ],
   "metadata": {
    "collapsed": false,
    "ExecuteTime": {
     "end_time": "2024-01-09T07:36:58.247759Z",
     "start_time": "2024-01-09T07:36:58.215510Z"
    }
   },
   "id": "e1dca36d54973feb"
  },
  {
   "cell_type": "code",
   "execution_count": 43,
   "outputs": [
    {
     "data": {
      "text/plain": "<Figure size 1000x400 with 3 Axes>",
      "image/png": "[encoded data removed]"
     },
     "metadata": {},
     "output_type": "display_data"
    }
   ],
   "source": [
    "plt.figure(figsize=(10,4))\n",
    "plt.subplot(1,3,1)\n",
    "plt.subplot(1, 3, 1)\n",
    "plt.hist(data_bernoulii, edgecolor='black')\n",
    "plt.title('Rozkład Bernoulliego')\n",
    "\n",
    "plt.subplot(1, 3, 2)\n",
    "plt.hist(data_binom, edgecolor='black')\n",
    "plt.title('Rozkład Dwumianowy')\n",
    "\n",
    "plt.subplot(1, 3, 3)\n",
    "plt.hist(data_poisson, edgecolor='black')\n",
    "plt.title('Rozkład Poissona')\n",
    "\n",
    "plt.tight_layout()\n",
    "plt.show()"
   ],
   "metadata": {
    "collapsed": false,
    "ExecuteTime": {
     "end_time": "2024-01-09T07:36:58.398500Z",
     "start_time": "2024-01-09T07:36:58.222587Z"
    }
   },
   "id": "2505b96968eeb957"
  },
  {
   "cell_type": "markdown",
   "source": [
    "## Cw 5"
   ],
   "metadata": {
    "collapsed": false
   },
   "id": "1e664355ffec1f7"
  },
  {
   "cell_type": "code",
   "execution_count": 52,
   "outputs": [
    {
     "data": {
      "text/plain": "<Figure size 640x480 with 1 Axes>",
      "image/png": "[encoded data removed]"
     },
     "metadata": {},
     "output_type": "display_data"
    },
    {
     "name": "stdout",
     "output_type": "stream",
     "text": [
      "suma:  1.0000000000000016\n"
     ]
    }
   ],
   "source": [
    "n=20\n",
    "p=0.4\n",
    "k = [x for x in range(n+1)]\n",
    "data_binom = scs.binom.pmf(k,n,p)\n",
    "plt.figure()\n",
    "plt.bar(k, data_binom)\n",
    "plt.show()\n",
    "print('suma: ', np.sum(data_binom))"
   ],
   "metadata": {
    "collapsed": false,
    "ExecuteTime": {
     "end_time": "2024-01-09T07:50:32.685219Z",
     "start_time": "2024-01-09T07:50:32.631913Z"
    }
   },
   "id": "5b96dd68644bdd62"
  },
  {
   "cell_type": "markdown",
   "source": [
    "## Cw 6"
   ],
   "metadata": {
    "collapsed": false
   },
   "id": "f71f7c52d1aeeb61"
  },
  {
   "cell_type": "code",
   "execution_count": 55,
   "outputs": [
    {
     "name": "stdout",
     "output_type": "stream",
     "text": [
      "Średnia: 0.2999370777829963\n",
      "Wariancja: 2.3570066579625544\n",
      "Kurtoza: -0.6464862445626087\n",
      "Skośność: -0.19062680942495483\n"
     ]
    }
   ],
   "source": [
    "mean = 0\n",
    "std = 2\n",
    "size = 100\n",
    "data_normal = np.random.normal(mean, std, size)\n",
    "data_normal_desc = scs.describe(data_normal)\n",
    "print(f\"Średnia: {data_normal_desc.mean}\")\n",
    "print(f\"Wariancja: {data_normal_desc.variance}\")\n",
    "print(f\"Kurtoza: {data_normal_desc.kurtosis}\")\n",
    "print(f\"Skośność: {data_normal_desc.skewness}\")"
   ],
   "metadata": {
    "collapsed": false,
    "ExecuteTime": {
     "end_time": "2024-01-09T07:58:26.606433Z",
     "start_time": "2024-01-09T07:58:26.592098Z"
    }
   },
   "id": "68311d87f4060d87"
  },
  {
   "cell_type": "code",
   "execution_count": 56,
   "outputs": [
    {
     "name": "stdout",
     "output_type": "stream",
     "text": [
      "Średnia: 0.03317612920709519\n",
      "Wariancja: 3.7022690458040817\n",
      "Kurtoza: 0.12027402596812431\n",
      "Skośność: -0.007185393021175909\n"
     ]
    }
   ],
   "source": [
    "mean = 0\n",
    "std = 2\n",
    "size = 1000\n",
    "data_normal = np.random.normal(mean, std, size)\n",
    "data_normal_desc = scs.describe(data_normal)\n",
    "print(f\"Średnia: {data_normal_desc.mean}\")\n",
    "print(f\"Wariancja: {data_normal_desc.variance}\")\n",
    "print(f\"Kurtoza: {data_normal_desc.kurtosis}\")\n",
    "print(f\"Skośność: {data_normal_desc.skewness}\")"
   ],
   "metadata": {
    "collapsed": false,
    "ExecuteTime": {
     "end_time": "2024-01-09T07:58:54.703882Z",
     "start_time": "2024-01-09T07:58:54.684492Z"
    }
   },
   "id": "51653c0a3c176b88"
  },
  {
   "cell_type": "code",
   "execution_count": 57,
   "outputs": [
    {
     "name": "stdout",
     "output_type": "stream",
     "text": [
      "Średnia: -0.00582700323936638\n",
      "Wariancja: 3.9824949337556945\n",
      "Kurtoza: 0.0033841590010799116\n",
      "Skośność: 0.014162824788731475\n"
     ]
    }
   ],
   "source": [
    "mean = 0\n",
    "std = 2\n",
    "size = 100000\n",
    "data_normal = np.random.normal(mean, std, size)\n",
    "data_normal_desc = scs.describe(data_normal)\n",
    "print(f\"Średnia: {data_normal_desc.mean}\")\n",
    "print(f\"Wariancja: {data_normal_desc.variance}\")\n",
    "print(f\"Kurtoza: {data_normal_desc.kurtosis}\")\n",
    "print(f\"Skośność: {data_normal_desc.skewness}\")"
   ],
   "metadata": {
    "collapsed": false,
    "ExecuteTime": {
     "end_time": "2024-01-09T07:59:20.367606Z",
     "start_time": "2024-01-09T07:59:20.346498Z"
    }
   },
   "id": "870118fed71768ec"
  },
  {
   "cell_type": "markdown",
   "source": [
    "Cięzko stwierdzić, czy dokładność się zwiększyła. Średnia (100 prób ) wynosiła 0.3 a przy 100000 próbach wynosi -0.006. Wyniki zupełnie się nie pokrywają ze sobą."
   ],
   "metadata": {
    "collapsed": false
   },
   "id": "39f2e5cb9f95120d"
  },
  {
   "cell_type": "markdown",
   "source": [
    "## Cw 7"
   ],
   "metadata": {
    "collapsed": false
   },
   "id": "d8e94625e4dff6ab"
  },
  {
   "cell_type": "code",
   "execution_count": 86,
   "outputs": [
    {
     "name": "stdout",
     "output_type": "stream",
     "text": [
      "[-12.         -11.75757576 -11.51515152 -11.27272727 -11.03030303\n",
      " -10.78787879 -10.54545455 -10.3030303  -10.06060606  -9.81818182\n",
      "  -9.57575758  -9.33333333  -9.09090909  -8.84848485  -8.60606061\n",
      "  -8.36363636  -8.12121212  -7.87878788  -7.63636364  -7.39393939\n",
      "  -7.15151515  -6.90909091  -6.66666667  -6.42424242  -6.18181818\n",
      "  -5.93939394  -5.6969697   -5.45454545  -5.21212121  -4.96969697\n",
      "  -4.72727273  -4.48484848  -4.24242424  -4.          -3.75757576\n",
      "  -3.51515152  -3.27272727  -3.03030303  -2.78787879  -2.54545455\n",
      "  -2.3030303   -2.06060606  -1.81818182  -1.57575758  -1.33333333\n",
      "  -1.09090909  -0.84848485  -0.60606061  -0.36363636  -0.12121212\n",
      "   0.12121212   0.36363636   0.60606061   0.84848485   1.09090909\n",
      "   1.33333333   1.57575758   1.81818182   2.06060606   2.3030303\n",
      "   2.54545455   2.78787879   3.03030303   3.27272727   3.51515152\n",
      "   3.75757576   4.           4.24242424   4.48484848   4.72727273\n",
      "   4.96969697   5.21212121   5.45454545   5.6969697    5.93939394\n",
      "   6.18181818   6.42424242   6.66666667   6.90909091   7.15151515\n",
      "   7.39393939   7.63636364   7.87878788   8.12121212   8.36363636\n",
      "   8.60606061   8.84848485   9.09090909   9.33333333   9.57575758\n",
      "   9.81818182  10.06060606  10.3030303   10.54545455  10.78787879\n",
      "  11.03030303  11.27272727  11.51515152  11.75757576  12.        ]\n"
     ]
    },
    {
     "data": {
      "text/plain": "<Figure size 640x480 with 1 Axes>",
      "image/png": "[encoded data removed]"
     },
     "metadata": {},
     "output_type": "display_data"
    }
   ],
   "source": [
    "# rozkład normalny\n",
    "mean = 1\n",
    "std = 2\n",
    "size = 100\n",
    "\n",
    "mean_2 = -1\n",
    "std_2 = 0.5\n",
    "\n",
    "data_normal = np.random.normal(mean, std, size)\n",
    "x = np.linspace(-mean*std - 10, mean*std + 10, 100)\n",
    "x_2 = np.linspace(-mean_2*std_2 - 10, mean_2*std_2 + 10, 100)\n",
    "print(x)\n",
    "\n",
    "\n",
    "plt.figure()\n",
    "plt.hist(data_normal, density=True, color='r', label='Rozkład normalny')\n",
    "plt.plot(x, scs.norm.pdf(x, mean, std), color='blue',label='Normalny -teoretyczny')\n",
    "plt.plot(x, scs.norm.pdf(x_2, mean_2, std_2), color='green', label='Gęstość')\n",
    "plt.legend()\n",
    "plt.show()"
   ],
   "metadata": {
    "collapsed": false,
    "ExecuteTime": {
     "end_time": "2024-01-09T08:38:53.016580Z",
     "start_time": "2024-01-09T08:38:52.954935Z"
    }
   },
   "id": "4481fa4265cc7c8"
  },
  {
   "cell_type": "code",
   "execution_count": null,
   "outputs": [],
   "source": [],
   "metadata": {
    "collapsed": false
   },
   "id": "7082b3c9bd049043"
  }
 ],
 "metadata": {
  "kernelspec": {
   "display_name": "Python 3",
   "language": "python",
   "name": "python3"
  },
  "language_info": {
   "codemirror_mode": {
    "name": "ipython",
    "version": 2
   },
   "file_extension": ".py",
   "mimetype": "text/x-python",
   "name": "python",
   "nbconvert_exporter": "python",
   "pygments_lexer": "ipython2",
   "version": "2.7.6"
  }
 },
 "nbformat": 4,
 "nbformat_minor": 5
}
