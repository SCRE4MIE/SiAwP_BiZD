{
 "cells": [
  {
   "cell_type": "markdown",
   "source": [
    "# Statystyka cw 1\n",
    "## Mateusz Baran\n",
    "### 155620"
   ],
   "metadata": {
    "collapsed": false
   },
   "id": "a2cf3d0ff7447ea8"
  },
  {
   "cell_type": "code",
   "execution_count": 54,
   "outputs": [],
   "source": [
    "import numpy as np\n",
    "import math\n",
    "import pandas as pd\n",
    "import scipy.stats as scs\n",
    "from scipy.stats import scoreatpercentile\n",
    "import statistics as stat\n",
    "import matplotlib.pyplot as plt"
   ],
   "metadata": {
    "collapsed": false,
    "ExecuteTime": {
     "end_time": "2023-12-05T09:33:19.173100Z",
     "start_time": "2023-12-05T09:33:18.959798Z"
    }
   },
   "id": "b519db5a39ce377d"
  },
  {
   "cell_type": "markdown",
   "source": [
    "## Cw 1"
   ],
   "metadata": {
    "collapsed": false
   },
   "id": "4704330264d67a34"
  },
  {
   "cell_type": "code",
   "execution_count": 52,
   "outputs": [
    {
     "name": "stdout",
     "output_type": "stream",
     "text": [
      "Wartości: [1 2 3 4 5 6]\n",
      "Prawdopodobieństwo: [0.16666667 0.16666667 0.16666667 0.16666667 0.16666667 0.16666667]\n",
      "Wartość oczekiwana: 3.5\n",
      "Wariancja: 2.916666666666666\n",
      "Odchylenie standardowe: 1.707825127659933\n"
     ]
    }
   ],
   "source": [
    "value = np.array([x for x in range(1,7)])\n",
    "p = 1/6\n",
    "p_values = np.array([p for i in range(len(value))])\n",
    "\n",
    "expectation_value = np.sum(value * p_values)\n",
    "ex2 = np.sum((value ** 2) * p_values)\n",
    "variance = ex2 - expectation_value ** 2\n",
    "standard_deviation = math.sqrt(variance)\n",
    "\n",
    "print('Wartości:', value)\n",
    "print('Prawdopodobieństwo:', p_values)\n",
    "print('Wartość oczekiwana:', expectation_value)\n",
    "print('Wariancja:', variance)\n",
    "print('Odchylenie standardowe:', standard_deviation)"
   ],
   "metadata": {
    "collapsed": false,
    "ExecuteTime": {
     "end_time": "2023-12-05T09:28:13.586715Z",
     "start_time": "2023-12-05T09:28:13.580781Z"
    }
   },
   "id": "ce9e94ab133dd378"
  },
  {
   "cell_type": "markdown",
   "source": [
    "## Cw 2, 3, 4"
   ],
   "metadata": {
    "collapsed": false
   },
   "id": "c280c40f1946de8"
  },
  {
   "cell_type": "code",
   "execution_count": 53,
   "outputs": [],
   "source": [],
   "metadata": {
    "collapsed": false,
    "ExecuteTime": {
     "end_time": "2023-12-05T09:28:13.606858Z",
     "start_time": "2023-12-05T09:28:13.587255Z"
    }
   },
   "id": "719f2e9733eac8fc"
  }
 ],
 "metadata": {
  "kernelspec": {
   "display_name": "Python 3",
   "language": "python",
   "name": "python3"
  },
  "language_info": {
   "codemirror_mode": {
    "name": "ipython",
    "version": 2
   },
   "file_extension": ".py",
   "mimetype": "text/x-python",
   "name": "python",
   "nbconvert_exporter": "python",
   "pygments_lexer": "ipython2",
   "version": "2.7.6"
  }
 },
 "nbformat": 4,
 "nbformat_minor": 5
}
